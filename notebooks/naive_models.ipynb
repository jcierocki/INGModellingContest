{
 "cells": [
  {
   "cell_type": "code",
   "execution_count": 62,
   "metadata": {
    "collapsed": true
   },
   "outputs": [],
   "source": [
    "import numpy as np\n",
    "import pandas as pd\n",
    "import matplotlib.pyplot as plt\n",
    "import seaborn as sns\n",
    "\n",
    "import lightgbm as lgb\n",
    "from hyperopt import fmin, tpe, hp, STATUS_OK, Trials\n",
    "from hyperopt.pyll.base import scope\n",
    "from sklearn.model_selection import cross_val_score\n",
    "from sklearn.metrics import f1_score, make_scorer, fbeta_score\n",
    "from statsmodels.tsa.vector_ar.var_model import VAR\n",
    "\n",
    "import datetime"
   ]
  },
  {
   "cell_type": "code",
   "execution_count": 85,
   "outputs": [],
   "source": [
    "def date_to_float(v):\n",
    "    res = np.empty(len(v))\n",
    "    for (idx, date_str) in enumerate(v):\n",
    "        date_converted = datetime.datetime.strptime(date_str, \"%Y-%m-%d\")\n",
    "        res[idx] = date_converted.year + date_converted.month / 12\n",
    "\n",
    "    return res\n",
    "\n",
    "def shift_date_columns(df, date_cols, horizon=12, up=True):\n",
    "    date_df = df[date_cols].copy()\n",
    "    new_df = pd.DataFrame()\n",
    "\n",
    "    for c in date_cols:\n",
    "        if up:\n",
    "            new_df[c] = date_df[c].iloc[-horizon:, :] + 1\n",
    "        else:\n",
    "            df[c] = date_df[c].iloc[-horizon:, :] - 1\n",
    "\n",
    "    date_df.append(new_df)\n",
    "\n",
    "    return date_df"
   ],
   "metadata": {
    "collapsed": false,
    "pycharm": {
     "name": "#%%\n"
    }
   }
  },
  {
   "cell_type": "code",
   "execution_count": 78,
   "outputs": [],
   "source": [
    "Y_COL = 'prepaid_amount'\n",
    "TIME_COLS = [\n",
    "    'date', # + 1/12\n",
    "    'years_to_matur', # - 1/12\n",
    "    'age_owner_years', # + 1/12\n",
    "]\n",
    "\n",
    "COLS_TO_ROLL = [ # difficult to implement, rather have to be omitted\n",
    "    'outstanding_volume',\n",
    "]\n",
    "\n",
    "KNOWN_FUTURE_COLS = [\n",
    "    'volume_schedule',\n",
    "    'planned_installments',\n",
    "]\n",
    "\n",
    "STATIC_COLS = [\n",
    "    'id',\n",
    "    'client_rate',\n",
    "    'original_volume',\n",
    "    'type',\n",
    "    'original_matur_years'\n",
    "]\n",
    "\n",
    "APROXIMATELY_STATIC = [\n",
    "    'EDUCATION',\n",
    "    'NUMBER_OF_FAMILY_MEMBERS',\n",
    "    'RESIDENTAL_STATUS',\n",
    "    'MARITAL_STATUS',\n",
    "    'FIXED_MONTHLY_EXPENSES',\n",
    "    'Flat_House',\n",
    "]\n",
    "\n",
    "MACRO_COLS = [\n",
    "    'avg_monthly_product_client_rate_cln',\n",
    "    'avg_monthly_product_client_mtg',\n",
    "    'avg_empl_enterprise',\n",
    "    'register_unemployed',\n",
    "    'unemployment_rate',\n",
    "    'avg_monthly_salary_enterprise_val',\n",
    "    'avg_monthly_salary_enterprise_index',\n",
    "    'wheat_purchase_price_index',\n",
    "    'milk_purchase_price_index',\n",
    "    'production_price_energy_index',\n",
    "    'production_price_water_supply_index',\n",
    "    'inflation',\n",
    "    'inflation_apartment_usage',\n",
    "    'new_flats',\n",
    "    'economy_index',\n",
    "    'economy_index_real_estate'\n",
    "]\n",
    "\n",
    "OTHER_COLS = [\n",
    "    'dpd' # random, not being able to forecast\n",
    "]\n",
    "\n",
    "REDUNDANT_COLS = [\n",
    "    'Unnamed: 0',\n",
    "    'date_str_x',\n",
    "    'date_str_y',\n",
    "    'age_load_years', # collinear with \"years_to_matur\"\n",
    "    'RES_ADDR_CITY', # too many unique values\n",
    "    'OPEN_DATE', # collinear with \"date\", \"years_to_matur\" and \"original_matur_days\"\n",
    "    'avg_monthly_product_client_rate_mtg_grn', # missing data -> unable to forecast\n",
    "]"
   ],
   "metadata": {
    "collapsed": false,
    "pycharm": {
     "name": "#%%\n"
    }
   }
  },
  {
   "cell_type": "code",
   "execution_count": 82,
   "outputs": [],
   "source": [
    "df_train = pd.read_csv(\"../data/data_train.csv\")\n",
    "df_macro = pd.read_excel(\"../data/Task_data.xlsx\", sheet_name='macro', engine='openpyxl')\n",
    "df_val = pd.read_csv(\"../data/data_val.csv\")\n",
    "\n",
    "df_train[\"date\"] = date_to_float(df_train[\"date\"].values)\n",
    "df_train_non_macro = df_train[TIME_COLS + KNOWN_FUTURE_COLS + STATIC_COLS + APROXIMATELY_STATIC].copy()  # in the future add COLS_TO_ROLL\n",
    "df_train_macro = df_macro[MACRO_COLS].iloc[:(df_macro.shape[0] - 12), :].copy()"
   ],
   "metadata": {
    "collapsed": false,
    "pycharm": {
     "name": "#%%\n"
    }
   }
  },
  {
   "cell_type": "code",
   "execution_count": 84,
   "outputs": [
    {
     "data": {
      "text/plain": "array([[5.58447820e-02, 3.29118833e-02, 6.46080486e+03, 8.90554219e+02,\n        5.18324077e+00, 5.36847395e+03, 1.03360061e+02, 8.52350150e+01,\n        9.91294933e+01, 1.03471179e+02, 1.05050041e+02, 1.04861823e+02,\n        1.06880665e+02, 1.78530850e+04, 2.03258984e+00, 1.18692183e+01],\n       [5.62880208e-02, 3.35300673e-02, 6.48584246e+03, 8.58864816e+02,\n        4.98037349e+00, 5.23608745e+03, 1.03948091e+02, 8.98139705e+01,\n        9.48565172e+01, 1.03695948e+02, 1.03888811e+02, 1.04430089e+02,\n        1.06233970e+02, 1.77752395e+04, 4.99246975e+00, 1.19045667e+01],\n       [5.72507933e-02, 3.33602208e-02, 6.48100139e+03, 8.30455631e+02,\n        4.85435749e+00, 5.28121108e+03, 1.04421115e+02, 9.40007500e+01,\n        9.14890163e+01, 1.03645032e+02, 1.02868086e+02, 1.03778936e+02,\n        1.05269494e+02, 1.77744194e+04, 5.36377793e+00, 1.21988766e+01],\n       [5.74335187e-02, 3.32382101e-02, 6.48576947e+03, 8.17179431e+02,\n        4.79098062e+00, 5.32544483e+03, 1.05106547e+02, 9.54702690e+01,\n        8.84402448e+01, 1.03480050e+02, 1.02303691e+02, 1.03284076e+02,\n        1.04439759e+02, 1.83876877e+04, 5.45384592e+00, 1.30865038e+01],\n       [5.73677027e-02, 3.32212748e-02, 6.49728168e+03, 8.12872478e+02,\n        4.77857322e+00, 5.32513148e+03, 1.05457432e+02, 9.63738073e+01,\n        8.50756428e+01, 1.03401571e+02, 1.01981846e+02, 1.02941000e+02,\n        1.03902305e+02, 1.81879218e+04, 5.75393091e+00, 1.35246663e+01],\n       [5.73168745e-02, 3.31504830e-02, 6.50531646e+03, 8.09689251e+02,\n        4.77222681e+00, 5.34713942e+03, 1.05549579e+02, 9.68142906e+01,\n        8.23053595e+01, 1.03389746e+02, 1.01838039e+02, 1.02731840e+02,\n        1.03544245e+02, 1.79096667e+04, 5.83335792e+00, 1.37819432e+01],\n       [5.70753426e-02, 3.30917663e-02, 6.51314022e+03, 8.06081794e+02,\n        4.75433667e+00, 5.36939674e+03, 1.05564626e+02, 9.68379627e+01,\n        8.02269930e+01, 1.03440212e+02, 1.01839149e+02, 1.02641778e+02,\n        1.03329902e+02, 1.77736166e+04, 5.94496734e+00, 1.39244612e+01],\n       [5.67714345e-02, 3.30653209e-02, 6.52027760e+03, 8.00775713e+02,\n        4.72439604e+00, 5.38222575e+03, 1.05508162e+02, 9.69384075e+01,\n        7.86203801e+01, 1.03571912e+02, 1.01902830e+02, 1.02621274e+02,\n        1.03234198e+02, 1.76268283e+04, 6.08024821e+00, 1.38224034e+01],\n       [5.64911108e-02, 3.30235283e-02, 6.52505430e+03, 7.93712340e+02,\n        4.68394351e+00, 5.39799725e+03, 1.05411046e+02, 9.70884878e+01,\n        7.75194223e+01, 1.03754649e+02, 1.01993099e+02, 1.02632698e+02,\n        1.03193145e+02, 1.75908367e+04, 6.03608214e+00, 1.35640830e+01],\n       [5.62210575e-02, 3.29742559e-02, 6.52888851e+03, 7.86479038e+02,\n        4.64094071e+00, 5.41498043e+03, 1.05312527e+02, 9.72030853e+01,\n        7.68476529e+01, 1.03966021e+02, 1.02098380e+02, 1.02658571e+02,\n        1.03173568e+02, 1.77095747e+04, 5.79219143e+00, 1.32163232e+01],\n       [5.59780705e-02, 3.29221753e-02, 6.53289427e+03, 7.80579111e+02,\n        4.60494234e+00, 5.43162420e+03, 1.05206969e+02, 9.73031518e+01,\n        7.64974293e+01, 1.04194740e+02, 1.02209163e+02, 1.02689138e+02,\n        1.03163418e+02, 1.79081874e+04, 5.37476250e+00, 1.27962305e+01],\n       [5.57670213e-02, 3.28638081e-02, 6.53769990e+03, 7.76922997e+02,\n        4.58125647e+00, 5.44993553e+03, 1.05089993e+02, 9.73604105e+01,\n        7.64292368e+01, 1.04429342e+02, 1.02326924e+02, 1.02724910e+02,\n        1.03158759e+02, 1.81429490e+04, 4.83858957e+00, 1.23500328e+01]])"
     },
     "execution_count": 84,
     "metadata": {},
     "output_type": "execute_result"
    }
   ],
   "source": [
    "macro_var_model_fitted = VAR(endog=df_train_macro).fit(maxlags=None, trend='c')\n",
    "\n",
    "var_model_forecast = macro_var_model_fitted.forecast(steps=12, y=df_train_macro.to_numpy())\n",
    "var_model_forecast"
   ],
   "metadata": {
    "collapsed": false,
    "pycharm": {
     "name": "#%%\n"
    }
   }
  },
  {
   "cell_type": "code",
   "execution_count": null,
   "outputs": [],
   "source": [],
   "metadata": {
    "collapsed": false,
    "pycharm": {
     "name": "#%%\n"
    }
   }
  },
  {
   "cell_type": "code",
   "execution_count": null,
   "outputs": [],
   "source": [
    "def adjusted_rmse(y_true, y_pred, weights):\n",
    "    np.sqrt(np.sum(\n",
    "        weights * (y_true - y_pred)**2\n",
    "    ) / np.sum(weights))\n",
    "\n",
    "def hyperopt_train_test(params):\n",
    "    clf = lgb.LGBMRegressor(**params)\n",
    "    loss = cross_val_score(clf, X_train, y_train, scoring=make_scorer(adjusted_rmse, weights=X_train.volumes)).mean()\n",
    "    return loss\n",
    "\n",
    "lgb_class_params = {\n",
    "    'learning_rate':    hp.uniform('learning_rate', 0.001, 0.2),\n",
    "    'max_depth':        scope.int(hp.quniform('max_depth', 4, 15, 1)),\n",
    "    # 'min_child_weight': scope.int(hp.quniform('min_child_weight', 1, 20, 1)),\n",
    "    'colsample_bytree': hp.uniform('colsample_bytree', 0.5, 0.8),\n",
    "    'subsample':        hp.choice('subsample', (0.7, 0.8, 0.9)),\n",
    "    'n_estimators':     hp.choice('n_estimators', (100, 200, 400, 800)),\n",
    "    'n_jobs': -1,\n",
    "    'device' : 'gpu',\n",
    "    'gpu_platform_id' : 0,\n",
    "    'gpu_device_id' : 0,\n",
    "    'random_state': 69\n",
    "}\n",
    "\n",
    "def f(params):\n",
    "    loss = hyperopt_train_test(params)\n",
    "    return {'loss': -loss, 'status': STATUS_OK}\n",
    "\n",
    "\n",
    "trials = Trials()\n",
    "\n",
    "best = fmin(f, lgb_class_params, algo=tpe.suggest, max_evals=1, trials=trials)"
   ],
   "metadata": {
    "collapsed": false,
    "pycharm": {
     "name": "#%%\n"
    }
   }
  },
  {
   "cell_type": "code",
   "execution_count": null,
   "outputs": [],
   "source": [
    "parameters = ['learning_rate', 'max_depth', 'min_child_weight']\n",
    "cols = len(parameters)\n",
    "f, axes = plt.subplots(nrows=1, ncols=cols, figsize=(20,5))\n",
    "\n",
    "cmap = plt.cm.jet\n",
    "for i, val in enumerate(parameters):\n",
    "  xs = np.array([t['misc']['vals'][val] for t in trials.trials]).ravel()\n",
    "  ys = [-t['result']['loss'] for t in trials.trials]\n",
    "  axes[i].scatter(xs, ys, s=20, linewidth=0.01, alpha=0.25, c=cmap(float(i)/len(parameters)))\n",
    "  axes[i].set_title(val)\n",
    "  axes[i].set_ylim([0.1, 1.0])"
   ],
   "metadata": {
    "collapsed": false,
    "pycharm": {
     "name": "#%%\n"
    }
   }
  }
 ],
 "metadata": {
  "kernelspec": {
   "display_name": "Python 3",
   "language": "python",
   "name": "python3"
  },
  "language_info": {
   "codemirror_mode": {
    "name": "ipython",
    "version": 2
   },
   "file_extension": ".py",
   "mimetype": "text/x-python",
   "name": "python",
   "nbconvert_exporter": "python",
   "pygments_lexer": "ipython2",
   "version": "2.7.6"
  }
 },
 "nbformat": 4,
 "nbformat_minor": 0
}