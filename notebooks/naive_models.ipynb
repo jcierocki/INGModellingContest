{
 "cells": [
  {
   "cell_type": "code",
   "execution_count": 17,
   "metadata": {
    "collapsed": true
   },
   "outputs": [],
   "source": [
    "import numpy as np\n",
    "import pandas as pd\n",
    "import matplotlib.pyplot as plt\n",
    "import seaborn as sns\n",
    "\n",
    "import lightgbm as lgb\n",
    "from hyperopt import fmin, tpe, hp, STATUS_OK, Trials\n",
    "from hyperopt.pyll.base import scope\n",
    "from sklearn.model_selection import cross_val_score\n",
    "from sklearn.metrics import f1_score, make_scorer, fbeta_score\n",
    "\n",
    "import datetime"
   ]
  },
  {
   "cell_type": "code",
   "execution_count": 27,
   "outputs": [],
   "source": [
    "Y_COL = 'prepaid_amount'\n",
    "X_COLS = [\n",
    "    'date',\n",
    "    'id',\n",
    "    'years_to_matur',\n",
    "    'age_owner_years',\n",
    "    'original_matur_years',\n",
    "    'client_rate',\n",
    "    'original_volume',\n",
    "    'age_loan_years',\n",
    "    'outstanding_volume',\n",
    "    'planned_installments',\n",
    "    # 'type',\n",
    "    # 'RES_ADDR_CITY',\n",
    "    'EDUCATION',\n",
    "    'NUMBER_OF_FAMILY_MEMBERS',\n",
    "    'RESIDENTAL_STATUS',\n",
    "    'MARITAL_STATUS',\n",
    "    'FIXED_MONTHLY_EXPENSES',\n",
    "    'Flat_House',\n",
    "    'OPEN_DATE',\n",
    "    'INCOME_houshold',\n",
    "    'dpd',\n",
    "    'date_str_y',\n",
    "    'avg_monthly_product_client_rate_cln',\n",
    "    'avg_monthly_product_client_mtg',\n",
    "    'avg_monthly_product_client_rate_mtg_grn',\n",
    "    'avg_empl_enterprise',\n",
    "    'register_unemployed',\n",
    "    'unemployment_rate',\n",
    "    'avg_monthly_salary_enterprise_val',\n",
    "    'avg_monthly_salary_enterprise_index',\n",
    "    'wheat_purchase_price_index',\n",
    "    'milk_purchase_price_index',\n",
    "    'production_price_energy_index',\n",
    "    'production_price_water_supply_index',\n",
    "    'inflation',\n",
    "    'inflation_apartment_usage',\n",
    "    'new_flats',\n",
    "    'economy_index',\n",
    "    'economy_index_real_estate'\n",
    "]\n",
    "\n",
    "df_train = pd.read_csv(\"../data/data_train.csv\")[[Y_COL] + X_COLS]\n",
    "df_val = pd.read_csv(\"../data/data_val.csv\")[[Y_COL] + X_COLS]\n",
    "\n",
    "def factorize_df(df):\n",
    "    df_new = df.copy()\n",
    "    for col in df_new.columns.values:\n",
    "        if df_new[col].dtype == 'object':\n",
    "            df_new[col], _ = pd.factorize(df_new[col], na_sentinel=None)\n",
    "\n",
    "# y_train = df_train[Y_COL].to_numpy()\n",
    "# df_train.drop(labels=Y_COL, axis=1, inplace=True)\n",
    "# X_train = df_train.to_numpy()\n",
    "#\n",
    "# y_val = df_val[Y_COL].to_numpy()\n",
    "# df_val.drop(labels=Y_COL, axis=1, inplace=True)\n",
    "# X_val = df_val.to_numpy()"
   ],
   "metadata": {
    "collapsed": false,
    "pycharm": {
     "name": "#%%\n"
    }
   }
  },
  {
   "cell_type": "code",
   "execution_count": 25,
   "outputs": [
    {
     "data": {
      "text/plain": "(array([0, 1, 0]), array(['ab', 'xd'], dtype=object))"
     },
     "execution_count": 25,
     "metadata": {},
     "output_type": "execute_result"
    }
   ],
   "source": [
    "# isinstance(df_train.date.values[0], datetime.date)\n",
    "# type(df_train.dtypes)\n",
    "pd.factorize([\"ab\", \"xd\", \"ab\"])"
   ],
   "metadata": {
    "collapsed": false,
    "pycharm": {
     "name": "#%%\n"
    }
   }
  },
  {
   "cell_type": "code",
   "execution_count": null,
   "outputs": [],
   "source": [
    "def adjusted_rmse(y_true, y_pred, weights):\n",
    "    np.sqrt(np.sum(\n",
    "        weights * (y_true - y_pred)**2\n",
    "    ) / np.sum(weights))\n",
    "\n",
    "def hyperopt_train_test(params):\n",
    "    clf = lgb.LGBMRegressor(**params)\n",
    "    loss = cross_val_score(clf, X_train, y_train, scoring=make_scorer(adjusted_rmse, weights=X_train.volumes)).mean()\n",
    "    return loss\n",
    "\n",
    "lgb_class_params = {\n",
    "    'learning_rate':    hp.uniform('learning_rate', 0.001, 0.2),\n",
    "    'max_depth':        scope.int(hp.quniform('max_depth', 4, 15, 1)),\n",
    "    # 'min_child_weight': scope.int(hp.quniform('min_child_weight', 1, 20, 1)),\n",
    "    'colsample_bytree': hp.uniform('colsample_bytree', 0.5, 0.8),\n",
    "    'subsample':        hp.choice('subsample', (0.7, 0.8, 0.9)),\n",
    "    'n_estimators':     hp.choice('n_estimators', (100, 200, 400, 800)),\n",
    "    'n_jobs': -1,\n",
    "    'device' : 'gpu',\n",
    "    'gpu_platform_id' : 0,\n",
    "    'gpu_device_id' : 0,\n",
    "    'random_state': 69\n",
    "}\n",
    "\n",
    "def f(params):\n",
    "    loss = hyperopt_train_test(params)\n",
    "    return {'loss': -loss, 'status': STATUS_OK}\n",
    "\n",
    "\n",
    "trials = Trials()\n",
    "\n",
    "best = fmin(f, lgb_class_params, algo=tpe.suggest, max_evals=1, trials=trials)"
   ],
   "metadata": {
    "collapsed": false,
    "pycharm": {
     "name": "#%%\n"
    }
   }
  },
  {
   "cell_type": "code",
   "execution_count": null,
   "outputs": [],
   "source": [
    "parameters = ['learning_rate', 'max_depth', 'min_child_weight']\n",
    "cols = len(parameters)\n",
    "f, axes = plt.subplots(nrows=1, ncols=cols, figsize=(20,5))\n",
    "\n",
    "cmap = plt.cm.jet\n",
    "for i, val in enumerate(parameters):\n",
    "  xs = np.array([t['misc']['vals'][val] for t in trials.trials]).ravel()\n",
    "  ys = [-t['result']['loss'] for t in trials.trials]\n",
    "  axes[i].scatter(xs, ys, s=20, linewidth=0.01, alpha=0.25, c=cmap(float(i)/len(parameters)))\n",
    "  axes[i].set_title(val)\n",
    "  axes[i].set_ylim([0.1, 1.0])"
   ],
   "metadata": {
    "collapsed": false,
    "pycharm": {
     "name": "#%%\n"
    }
   }
  }
 ],
 "metadata": {
  "kernelspec": {
   "display_name": "Python 3",
   "language": "python",
   "name": "python3"
  },
  "language_info": {
   "codemirror_mode": {
    "name": "ipython",
    "version": 2
   },
   "file_extension": ".py",
   "mimetype": "text/x-python",
   "name": "python",
   "nbconvert_exporter": "python",
   "pygments_lexer": "ipython2",
   "version": "2.7.6"
  }
 },
 "nbformat": 4,
 "nbformat_minor": 0
}