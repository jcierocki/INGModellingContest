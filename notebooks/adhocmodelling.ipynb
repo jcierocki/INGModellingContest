{
 "metadata": {
  "language_info": {
   "codemirror_mode": {
    "name": "ipython",
    "version": 3
   },
   "file_extension": ".py",
   "mimetype": "text/x-python",
   "name": "python",
   "nbconvert_exporter": "python",
   "pygments_lexer": "ipython3",
   "version": "3.8.6"
  },
  "orig_nbformat": 2,
  "kernelspec": {
   "name": "python386jvsc74a57bd0ee0c5e22f9e903b2ede28f785c5fc373838c04aefe8e8ffaed40ac50991ba0c1",
   "display_name": "Python 3.8.6 64-bit ('INGModellingContest-QFb3_eOW': pipenv)"
  }
 },
 "nbformat": 4,
 "nbformat_minor": 2,
 "cells": [
  {
   "cell_type": "code",
   "execution_count": 1,
   "metadata": {},
   "outputs": [],
   "source": [
    "import pandas as pd\n",
    "import sys\n",
    "from datetime import datetime\n",
    "sys.path.append('..')"
   ]
  },
  {
   "cell_type": "code",
   "execution_count": 2,
   "metadata": {},
   "outputs": [],
   "source": [
    "data_train = pd.read_csv(\"../data/data_train.csv\")\n",
    "data_val = pd.read_csv(\"../data/data_val.csv\")\n",
    "data_test = pd.read_csv(\"../data/data_test.csv\")"
   ]
  },
  {
   "cell_type": "code",
   "execution_count": 3,
   "metadata": {},
   "outputs": [],
   "source": [
    "data_train[\"date\"] = data_train[\"date\"].astype(\"datetime64[ns]\")\n",
    "data_val[\"date\"] = data_val[\"date\"].astype(\"datetime64[ns]\")\n",
    "data_test[\"date\"] = data_test[\"date\"].astype(\"datetime64[ns]\")"
   ]
  },
  {
   "cell_type": "code",
   "execution_count": 4,
   "metadata": {},
   "outputs": [],
   "source": [
    "data_train = data_train.groupby(\"date\").agg({\n",
    "    **{\n",
    "        \"prepaid_amount\": \"sum\",\n",
    "        \"years_to_matur\": \"median\",\n",
    "        \"age_owner_years\": \"median\",\n",
    "        \"age_loan_years\": \"median\",\n",
    "        \"volume_schedule\": \"sum\",\n",
    "        \"FIXED_MONTHLY_EXPENSES\": \"sum\",\n",
    "        \"INCOME_houshold\": \"sum\",\n",
    "        \"dpd\": \"sum\"\n",
    "    }\n",
    "    ,**{key: \"max\"\n",
    "    for key in [\n",
    "        'avg_monthly_product_client_rate_cln',\n",
    "        'avg_monthly_product_client_mtg',\n",
    "        'avg_monthly_product_client_rate_mtg_grn', 'avg_empl_enterprise',\n",
    "        'register_unemployed', 'unemployment_rate',\n",
    "        'avg_monthly_salary_enterprise_val',\n",
    "        'avg_monthly_salary_enterprise_index', 'wheat_purchase_price_index',\n",
    "        'milk_purchase_price_index', 'production_price_energy_index',\n",
    "        'production_price_water_supply_index', 'inflation',\n",
    "        'inflation_apartment_usage', 'new_flats', 'economy_index',\n",
    "        'economy_index_real_estate'\n",
    "        ]\n",
    "}})"
   ]
  },
  {
   "cell_type": "code",
   "execution_count": 5,
   "metadata": {},
   "outputs": [],
   "source": [
    "data_val = data_val.groupby(\"date\").agg({\n",
    "    **{\n",
    "        \"prepaid_amount\": \"sum\",\n",
    "        \"years_to_matur\": \"median\",\n",
    "        \"age_owner_years\": \"median\",\n",
    "        \"age_loan_years\": \"median\",\n",
    "        \"volume_schedule\": \"sum\",\n",
    "        \"FIXED_MONTHLY_EXPENSES\": \"sum\",\n",
    "        \"INCOME_houshold\": \"sum\",\n",
    "        \"dpd\": \"sum\"\n",
    "    }\n",
    "    ,**{key: \"max\"\n",
    "    for key in [\n",
    "        'avg_monthly_product_client_rate_cln',\n",
    "        'avg_monthly_product_client_mtg',\n",
    "        'avg_monthly_product_client_rate_mtg_grn', 'avg_empl_enterprise',\n",
    "        'register_unemployed', 'unemployment_rate',\n",
    "        'avg_monthly_salary_enterprise_val',\n",
    "        'avg_monthly_salary_enterprise_index', 'wheat_purchase_price_index',\n",
    "        'milk_purchase_price_index', 'production_price_energy_index',\n",
    "        'production_price_water_supply_index', 'inflation',\n",
    "        'inflation_apartment_usage', 'new_flats', 'economy_index',\n",
    "        'economy_index_real_estate'\n",
    "        ]\n",
    "}})"
   ]
  },
  {
   "cell_type": "code",
   "execution_count": 6,
   "metadata": {},
   "outputs": [],
   "source": [
    "data_test = data_test.groupby(\"date\").agg({\n",
    "    **{\n",
    "        \"prepaid_amount\": \"sum\",\n",
    "        \"years_to_matur\": \"median\",\n",
    "        \"age_owner_years\": \"median\",\n",
    "        \"age_loan_years\": \"median\",\n",
    "        \"volume_schedule\": \"sum\",\n",
    "        \"FIXED_MONTHLY_EXPENSES\": \"sum\",\n",
    "        \"INCOME_houshold\": \"sum\",\n",
    "        \"dpd\": \"sum\"\n",
    "    }\n",
    "    ,**{key: \"max\"\n",
    "    for key in [\n",
    "        'avg_monthly_product_client_rate_cln',\n",
    "        'avg_monthly_product_client_mtg',\n",
    "        'avg_monthly_product_client_rate_mtg_grn', 'avg_empl_enterprise',\n",
    "        'register_unemployed', 'unemployment_rate',\n",
    "        'avg_monthly_salary_enterprise_val',\n",
    "        'avg_monthly_salary_enterprise_index', 'wheat_purchase_price_index',\n",
    "        'milk_purchase_price_index', 'production_price_energy_index',\n",
    "        'production_price_water_supply_index', 'inflation',\n",
    "        'inflation_apartment_usage', 'new_flats', 'economy_index',\n",
    "        'economy_index_real_estate'\n",
    "        ]\n",
    "}})"
   ]
  },
  {
   "cell_type": "code",
   "execution_count": 7,
   "metadata": {},
   "outputs": [],
   "source": [
    "mins = {}\n",
    "maxes = {}\n",
    "for column in data_test.columns:\n",
    "    maxes[column] = data_train[column].max()\n",
    "    mins[column] = data_train[column].min()\n",
    "    data_train[column] = (data_train[column] - mins[column])/ (maxes[column] - mins[column])\n",
    "    data_val[column]   = (data_val[column]   - mins[column])/ (maxes[column] - mins[column])\n",
    "    data_test[column]  = (data_test[column]  - mins[column])/ (maxes[column] - mins[column])"
   ]
  },
  {
   "cell_type": "code",
   "execution_count": 8,
   "metadata": {},
   "outputs": [],
   "source": [
    "data_train = data_train.append(data_val)\n",
    "del data_train[\"avg_monthly_product_client_rate_mtg_grn\"]"
   ]
  },
  {
   "cell_type": "code",
   "execution_count": 9,
   "metadata": {},
   "outputs": [],
   "source": [
    "y_train = data_train[\"prepaid_amount\"]\n",
    "del data_train[\"prepaid_amount\"]"
   ]
  },
  {
   "cell_type": "code",
   "execution_count": 10,
   "metadata": {},
   "outputs": [],
   "source": [
    "from sklearn.feature_selection import SelectKBest\n",
    "from sklearn.feature_selection import f_regression\n",
    "from matplotlib import pyplot\n",
    "import numpy as np\n",
    " \n",
    "# feature selection\n",
    "def select_features(X_train, y_train, n_features=None):\n",
    "\t# configure to select all features\n",
    "\tfs = SelectKBest(score_func=f_regression, k='all' if n_features is None else n_features)\n",
    "\t# learn relationship from training data\n",
    "\tfs.fit(X_train, y_train)\n",
    "\treturn fs\n",
    " "
   ]
  },
  {
   "cell_type": "code",
   "execution_count": 11,
   "metadata": {},
   "outputs": [],
   "source": [
    "n_features = 5\n",
    "dependent_variable = \"prepaid_amount\"\n",
    "# feature selection\n",
    "fs = select_features(data_train, y_train, n_features)\n",
    "# what are scores for the features\n",
    "best_features = data_train.columns[np.argsort(fs.scores_)[-n_features:]]\n",
    "\n",
    "data_train = data_train[best_features]\n",
    "data_train[dependent_variable] = y_train\n",
    "data_test = data_test[list(best_features) + [dependent_variable]]"
   ]
  },
  {
   "source": [
    "# Best models"
   ],
   "cell_type": "markdown",
   "metadata": {}
  },
  {
   "cell_type": "code",
   "execution_count": 12,
   "metadata": {},
   "outputs": [],
   "source": [
    "from statsmodels.tsa.exponential_smoothing.ets import ETSModel\n",
    "from statsmodels.tsa.exponential_smoothing.ets import ETSModel\n",
    "import statsmodels.api as sm\n",
    "from sklearn.metrics import mean_squared_error, mean_absolute_error, r2_score\n",
    "from fbprophet import Prophet"
   ]
  },
  {
   "cell_type": "code",
   "execution_count": 13,
   "metadata": {},
   "outputs": [],
   "source": [
    "def evaluate(y_true, y_pred):\n",
    "    y_true = np.squeeze(y_true)\n",
    "    y_pred = np.squeeze(y_pred)\n",
    "    scores = {}\n",
    "    scores[\"mae\"] = mean_absolute_error(y_true, y_pred)\n",
    "    scores[\"mse\"] = mean_squared_error(y_true, y_pred)\n",
    "    return scores\n"
   ]
  },
  {
   "cell_type": "code",
   "execution_count": 14,
   "metadata": {},
   "outputs": [],
   "source": [
    "def sarimax(\n",
    "        train,\n",
    "        val,\n",
    "        col,\n",
    "        exog_col=None,\n",
    "        freq='M',\n",
    "        eval_fun=evaluate,\n",
    "        p=1,\n",
    "        d=0,\n",
    "        q=1,\n",
    "        trend=\"c\",\n",
    "        P=0,\n",
    "        D=0,\n",
    "        Q=0,\n",
    "        use_boxcox=True,\n",
    "):\n",
    "    train_data = train.copy()\n",
    "    val_data = val.copy()\n",
    "\n",
    "    xreg = None\n",
    "    xreg_fcst = None\n",
    "    if exog_col is not None:\n",
    "        xreg = train_data[list(exog_col)]\n",
    "        xreg_fcst = val_data[list(exog_col)]\n",
    "\n",
    "    s = freq_convert(freq)\n",
    "\n",
    "    mod = sm.tsa.statespace.SARIMAX(\n",
    "        endog=train_data[col],\n",
    "        exog=xreg,\n",
    "        order=(p, d, q),\n",
    "        seasonal_order=(P, D, Q, s),\n",
    "        trend=trend,\n",
    "        use_boxcox=use_boxcox,\n",
    "        initialization_method=\"estimated\",\n",
    "        freq=freq\n",
    "    )\n",
    "    res = mod.fit(method='powell', maxiter=1000, disp=False)\n",
    "    f = res.fittedvalues\n",
    "\n",
    "    forecast = res.forecast(steps=val_data.shape[0], exog=xreg_fcst)\n",
    "    return eval_fun(val_data[col], forecast), pd.concat((f, forecast))"
   ]
  },
  {
   "cell_type": "code",
   "execution_count": 15,
   "metadata": {},
   "outputs": [],
   "source": [
    " def freq_convert(freq_str):\n",
    "    if freq_str == 'M' or freq_str == 'MS':\n",
    "        return 12\n",
    "    elif freq_str == 'W':\n",
    "        return 7\n",
    "    elif freq_str == 'D':\n",
    "        return None  # TODO check it\n",
    "    else:\n",
    "        raise AttributeError\n",
    "\n",
    "\n",
    "def prepare_data_prophet(train, val, col, exog_col=None):\n",
    "    colnames = [col]\n",
    "    if exog_col is not None:\n",
    "        colnames += exog_col\n",
    "\n",
    "    train_data = train[colnames].copy().rename(columns={col: 'y'})\n",
    "    train_data[\"ds\"] = train.index\n",
    "\n",
    "    val_data = val[colnames].copy().rename(columns={col: 'y'})\n",
    "    val_data[\"ds\"] = val.index\n",
    "\n",
    "    return train_data, val_data\n",
    "\n",
    "def prophet(train, val, col, exog_col=None, freq='MS', eval_fun=evaluate):\n",
    "    train_data, val_data = prepare_data_prophet(train, val, col, exog_col)\n",
    "\n",
    "    m = Prophet()\n",
    "    if exog_col is not None:\n",
    "        for c in exog_col:\n",
    "            m.add_regressor(name=c)\n",
    "\n",
    "    m.fit(train_data)\n",
    "\n",
    "    future = m.make_future_dataframe(periods=val_data.shape[0], freq=freq)\n",
    "    if exog_col is not None:\n",
    "        for c in exog_col:\n",
    "            future[c] = np.concatenate(\n",
    "                (train_data[c].to_numpy(), val_data[c].to_numpy())\n",
    "            )\n",
    "\n",
    "    forecast = m.predict(future)\n",
    "    f = forecast.tail(val_data.shape[0])[\"yhat\"].values\n",
    "    in_sample = m.predict()\n",
    "    return eval_fun(val_data[\"y\"].values, f), forecast[\"yhat\"].values"
   ]
  },
  {
   "cell_type": "code",
   "execution_count": 16,
   "metadata": {},
   "outputs": [],
   "source": [
    "def ets(\n",
    "        train,\n",
    "        val,\n",
    "        col=\"org\",\n",
    "        exog_col=None,\n",
    "        freq='M',\n",
    "        eval_fun=evaluate,\n",
    "        error='add',\n",
    "        trend='add',\n",
    "        damped_trend=False,\n",
    "        seasonal=None,\n",
    "        epsilon=0\n",
    "):\n",
    "    train_data = train[col].copy() + epsilon\n",
    "    val_data = val[col].copy() + epsilon\n",
    "\n",
    "    seasonal_periods = freq_convert(freq)\n",
    "\n",
    "    mod = ETSModel(\n",
    "        train_data,\n",
    "        error=error,\n",
    "        trend=trend,\n",
    "        damped_trend=damped_trend,\n",
    "        seasonal=seasonal,\n",
    "        seasonal_periods=seasonal_periods,\n",
    "        freq=freq,\n",
    "        initialization_method=\"estimated\",\n",
    "    )\n",
    "    res = mod.fit()\n",
    "    f = res.fittedvalues\n",
    "\n",
    "    forecast = res.forecast(steps=val_data.shape[0]) - epsilon\n",
    "    return eval_fun(val_data, forecast), pd.concat((f, forecast))"
   ]
  },
  {
   "cell_type": "code",
   "execution_count": 17,
   "metadata": {},
   "outputs": [
    {
     "output_type": "stream",
     "name": "stderr",
     "text": [
      "INFO:fbprophet:Disabling weekly seasonality. Run prophet with weekly_seasonality=True to override this.\n",
      "INFO:fbprophet:Disabling daily seasonality. Run prophet with daily_seasonality=True to override this.\n"
     ]
    }
   ],
   "source": [
    "results_prophet = prophet(train=data_train,   \n",
    "    val=data_test, \n",
    "    col=\"prepaid_amount\", \n",
    "    exog_col=None)"
   ]
  },
  {
   "cell_type": "code",
   "execution_count": 18,
   "metadata": {},
   "outputs": [],
   "source": [
    "results_ets = ets(train=data_train,   \n",
    "    val=data_test, \n",
    "    col=\"prepaid_amount\", \n",
    "    exog_col=None)"
   ]
  },
  {
   "cell_type": "code",
   "execution_count": 19,
   "metadata": {},
   "outputs": [
    {
     "output_type": "stream",
     "name": "stderr",
     "text": [
      "/Users/mdolinski/.local/share/virtualenvs/INGModellingContest-QFb3_eOW/lib/python3.8/site-packages/statsmodels/tsa/base/tsa_model.py:524: ValueWarning: No frequency information was provided, so inferred frequency M will be used.\n  warnings.warn('No frequency information was'\n"
     ]
    }
   ],
   "source": [
    "results_sarimax = sarimax(train=data_train,   \n",
    "    val=data_test, \n",
    "    col=\"prepaid_amount\", \n",
    "    exog_col=[c for c in data_train.columns if c!=dependent_variable])"
   ]
  },
  {
   "cell_type": "code",
   "execution_count": 20,
   "metadata": {},
   "outputs": [],
   "source": [
    "final_predictions = ((results_prophet[1] + results_ets[1] + results_sarimax[1]) / 3) * (maxes[dependent_variable] - mins[dependent_variable]) + mins[dependent_variable]"
   ]
  },
  {
   "cell_type": "code",
   "execution_count": 21,
   "metadata": {},
   "outputs": [
    {
     "output_type": "execute_result",
     "data": {
      "text/plain": [
       "2016-01-31    2.114380e+06\n",
       "2016-02-29    2.182795e+06\n",
       "2016-03-31    1.999452e+06\n",
       "2016-04-30    2.785902e+06\n",
       "2016-05-31    2.750598e+06\n",
       "2016-06-30    2.569749e+06\n",
       "2016-07-31    3.045862e+06\n",
       "2016-08-31    3.297355e+06\n",
       "2016-09-30    3.547296e+06\n",
       "2016-10-31    3.525413e+06\n",
       "2016-11-30    3.493623e+06\n",
       "2016-12-31    3.846221e+06\n",
       "2017-01-31    3.682191e+06\n",
       "2017-02-28    3.868804e+06\n",
       "2017-03-31    4.095995e+06\n",
       "2017-04-30    4.355657e+06\n",
       "2017-05-31    4.528070e+06\n",
       "2017-06-30    4.442708e+06\n",
       "2017-07-31    4.561724e+06\n",
       "2017-08-31    5.470940e+06\n",
       "2017-09-30    6.406939e+06\n",
       "2017-10-31    7.152401e+06\n",
       "2017-11-30    7.129197e+06\n",
       "2017-12-31    8.159417e+06\n",
       "2018-01-31    7.991780e+06\n",
       "2018-02-28    7.725202e+06\n",
       "2018-03-31    8.225417e+06\n",
       "2018-04-30    8.099157e+06\n",
       "2018-05-31    8.656614e+06\n",
       "2018-06-30    8.172766e+06\n",
       "2018-07-31    7.910565e+06\n",
       "2018-08-31    8.200874e+06\n",
       "2018-09-30    8.845887e+06\n",
       "2018-10-31    9.442885e+06\n",
       "2018-11-30    8.911650e+06\n",
       "2018-12-31    9.000193e+06\n",
       "2019-01-31    9.077278e+06\n",
       "2019-02-28    8.467112e+06\n",
       "2019-03-31    8.577574e+06\n",
       "2019-04-30    5.525068e+06\n",
       "2019-05-31    6.330618e+06\n",
       "2019-06-30    5.855842e+06\n",
       "2019-07-31    5.694736e+06\n",
       "2019-08-31    6.717902e+06\n",
       "2019-09-30    5.734737e+06\n",
       "2019-10-31    5.489224e+06\n",
       "2019-11-30    5.642854e+06\n",
       "2019-12-31    5.653784e+06\n",
       "2020-01-31    6.153153e+06\n",
       "2020-02-29    5.913009e+06\n",
       "dtype: float64"
      ]
     },
     "metadata": {},
     "execution_count": 21
    }
   ],
   "source": [
    "final_predictions"
   ]
  },
  {
   "cell_type": "code",
   "execution_count": null,
   "metadata": {},
   "outputs": [],
   "source": []
  }
 ]
}