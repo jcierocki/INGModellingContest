{
 "metadata": {
  "language_info": {
   "codemirror_mode": {
    "name": "ipython",
    "version": 3
   },
   "file_extension": ".py",
   "mimetype": "text/x-python",
   "name": "python",
   "nbconvert_exporter": "python",
   "pygments_lexer": "ipython3",
   "version": "3.8.6"
  },
  "orig_nbformat": 2,
  "kernelspec": {
   "name": "python386jvsc74a57bd0ee0c5e22f9e903b2ede28f785c5fc373838c04aefe8e8ffaed40ac50991ba0c1",
   "display_name": "Python 3.8.6 64-bit ('INGModellingContest-QFb3_eOW': pipenv)"
  }
 },
 "nbformat": 4,
 "nbformat_minor": 2,
 "cells": [
  {
   "cell_type": "code",
   "execution_count": 1,
   "metadata": {},
   "outputs": [],
   "source": [
    "import pandas as pd\n",
    "import sys\n",
    "from datetime import datetime\n",
    "sys.path.append('..')"
   ]
  },
  {
   "cell_type": "code",
   "execution_count": 2,
   "metadata": {},
   "outputs": [],
   "source": [
    "data_in_sample = pd.read_excel(\"../data/Task_data.xlsx\", sheet_name=\"in-sample\", engine='openpyxl')\n",
    "data_out_of_sample = pd.read_excel(\"../data/Task_data.xlsx\", sheet_name=\"out-of-sample\", engine='openpyxl')\n",
    "data_exog = pd.read_excel(\"../data/Task_data.xlsx\", sheet_name=\"macro\", engine='openpyxl')"
   ]
  },
  {
   "cell_type": "code",
   "execution_count": 3,
   "metadata": {},
   "outputs": [
    {
     "output_type": "execute_result",
     "data": {
      "text/plain": [
       "((165086, 23), (17532, 22), (62, 22))"
      ]
     },
     "metadata": {},
     "execution_count": 3
    }
   ],
   "source": [
    "data_in_sample.shape, data_out_of_sample.shape, data_exog.shape "
   ]
  },
  {
   "cell_type": "code",
   "execution_count": 4,
   "metadata": {},
   "outputs": [],
   "source": [
    "data_in_sample[\"date\"] = data_in_sample[\"date\"].astype(\"datetime64[ns]\")\n",
    "data_out_of_sample[\"date\"] = data_out_of_sample[\"date\"].astype(\"datetime64[ns]\")\n",
    "data_exog[\"date_str\"] = pd.to_datetime(data_exog[\"date_str\"], format='%Y%m%d').astype(\"datetime64[ns]\")"
   ]
  },
  {
   "cell_type": "code",
   "execution_count": 5,
   "metadata": {},
   "outputs": [],
   "source": [
    "data_in_sample.rename({'outstanding_volume': \"volume_schedule\"}, axis=1, inplace=True)"
   ]
  },
  {
   "cell_type": "code",
   "execution_count": 6,
   "metadata": {},
   "outputs": [],
   "source": [
    "data_in_sample[\"OPEN_DATE\"] = data_in_sample[\"OPEN_DATE\"].apply(lambda x: str(x)[:4])"
   ]
  },
  {
   "cell_type": "code",
   "execution_count": 7,
   "metadata": {},
   "outputs": [],
   "source": [
    "data_out_of_sample[\"OPEN_DATE\"] = data_out_of_sample[\"OPEN_DATE\"].apply(lambda x: str(x)[:4])"
   ]
  },
  {
   "cell_type": "code",
   "execution_count": 8,
   "metadata": {},
   "outputs": [
    {
     "output_type": "stream",
     "name": "stderr",
     "text": [
      "<ipython-input-8-2150bf5380a5>:1: FutureWarning: Index.__xor__ operating as a set operation is deprecated, in the future this will be a logical operation matching Series.__xor__.  Use index.symmetric_difference(other) instead\n  data_in_sample.columns ^ data_out_of_sample.columns\n"
     ]
    },
    {
     "output_type": "execute_result",
     "data": {
      "text/plain": [
       "Index(['prepaid_amount'], dtype='object')"
      ]
     },
     "metadata": {},
     "execution_count": 8
    }
   ],
   "source": [
    "data_in_sample.columns ^ data_out_of_sample.columns"
   ]
  },
  {
   "cell_type": "code",
   "execution_count": 9,
   "metadata": {},
   "outputs": [],
   "source": [
    "data_exog = data_exog[[col for col in data_exog.columns if not col.startswith(\"Unnamed\")]]\n",
    "data_exog['avg_monthly_product_client_rate_mtg_grn'] = data_exog['avg_monthly_product_client_rate_mtg_grn'].interpolate(method='backfill', limit_direction=\"backward\")"
   ]
  },
  {
   "cell_type": "code",
   "execution_count": 10,
   "metadata": {},
   "outputs": [],
   "source": [
    "fill_strategy = {\"datetime64[ns]\", \"int64\", \"float64\", \"object\"}\n",
    "for column in data_in_sample.columns:\n",
    "    if column in ['prepaid_amount', 'volume_schedule']:\n",
    "        continue\n",
    "    elif data_in_sample[column].dtype == \"datetime64[ns]\":\n",
    "        continue\n",
    "    elif data_in_sample[column].dtype == \"int64\": \n",
    "        fill_value = data_in_sample[column].median()\n",
    "        data_in_sample[column] = data_in_sample[column].fillna(fill_value)\n",
    "        data_out_of_sample[column] = data_out_of_sample[column].fillna(fill_value)\n",
    "    elif data_in_sample[column].dtype == \"float64\": \n",
    "        fill_value = data_in_sample[column].median()\n",
    "        data_in_sample[column] = data_in_sample[column].fillna(fill_value)\n",
    "        data_out_of_sample[column] = data_out_of_sample[column].fillna(fill_value)\n",
    "    elif data_in_sample[column].dtype == \"object\": \n",
    "        fill_value = data_in_sample[column].mode()[0]\n",
    "        data_in_sample[column] = data_in_sample[column].fillna(fill_value)\n",
    "        data_out_of_sample[column] = data_out_of_sample[column].fillna(fill_value)    "
   ]
  },
  {
   "cell_type": "code",
   "execution_count": 12,
   "metadata": {},
   "outputs": [
    {
     "output_type": "execute_result",
     "data": {
      "text/plain": [
       "date                        0\n",
       "date_str                    0\n",
       "id                          0\n",
       "years_to_matur              0\n",
       "age_owner_years             0\n",
       "original_matur_years        0\n",
       "client_rate                 0\n",
       "original_volume             0\n",
       "age_loan_years              0\n",
       "volume_schedule             0\n",
       "planned_installments        0\n",
       "prepaid_amount              0\n",
       "type                        0\n",
       "RES_ADDR_CITY               0\n",
       "EDUCATION                   0\n",
       "NUMBER_OF_FAMILY_MEMBERS    0\n",
       "RESIDENTAL_STATUS           0\n",
       "MARITAL_STATUS              0\n",
       "FIXED_MONTHLY_EXPENSES      0\n",
       "Flat_House                  0\n",
       "OPEN_DATE                   0\n",
       "INCOME_houshold             0\n",
       "dpd                         0\n",
       "dtype: int64"
      ]
     },
     "metadata": {},
     "execution_count": 12
    }
   ],
   "source": [
    "data_in_sample.isnull().sum()"
   ]
  },
  {
   "cell_type": "code",
   "execution_count": 13,
   "metadata": {},
   "outputs": [],
   "source": [
    "data_in_sample = pd.merge(data_in_sample, data_exog, left_on=\"date\", right_on=\"date_str\")\n",
    "data_out_of_sample = pd.merge(data_out_of_sample, data_exog, left_on=\"date\", right_on=\"date_str\")"
   ]
  },
  {
   "cell_type": "code",
   "execution_count": 14,
   "metadata": {},
   "outputs": [],
   "source": [
    "del data_in_sample['date_str_x']\n",
    "del data_in_sample['date_str_y']\n",
    "del data_out_of_sample['date_str_x']\n",
    "del data_out_of_sample['date_str_y']"
   ]
  },
  {
   "cell_type": "code",
   "execution_count": 15,
   "metadata": {},
   "outputs": [
    {
     "output_type": "execute_result",
     "data": {
      "text/plain": [
       "             date    id  years_to_matur  age_owner_years  \\\n",
       "0      2016-10-31     1           11.49            44.22   \n",
       "1      2016-10-31     2            6.52            56.79   \n",
       "2      2016-10-31     3            9.37            43.99   \n",
       "3      2016-10-31     4            6.42            40.20   \n",
       "4      2016-10-31     5            5.44            55.12   \n",
       "...           ...   ...             ...              ...   \n",
       "165081 2016-09-30  4655            4.25            49.42   \n",
       "165082 2016-09-30  4656            2.83            48.84   \n",
       "165083 2016-09-30  4657            4.31            49.34   \n",
       "165084 2016-09-30  4658            1.00            50.67   \n",
       "165085 2016-09-30  4659            3.35            50.34   \n",
       "\n",
       "        original_matur_years  client_rate  original_volume  age_loan_years  \\\n",
       "0                      25.01       0.0342         51850.00           13.53   \n",
       "1                      21.93       0.0342        155550.00           15.41   \n",
       "2                      25.02       0.0432         70516.00           15.64   \n",
       "3                      20.01       0.0850         31110.00           13.59   \n",
       "4                      19.27       0.0279        336431.43           13.83   \n",
       "...                      ...          ...              ...             ...   \n",
       "165081                  5.00       0.0730         31110.00            0.75   \n",
       "165082                  3.00       0.0530         22693.45            0.17   \n",
       "165083                  4.98       0.0699         15555.00            0.67   \n",
       "165084                  3.01       0.0730          9125.60            2.00   \n",
       "165085                  5.02       0.0530         23442.56            1.67   \n",
       "\n",
       "        volume_schedule  planned_installments  ...  \\\n",
       "0              33397.66                196.04  ...   \n",
       "1              86282.04                623.61  ...   \n",
       "2              39803.26                282.97  ...   \n",
       "3              15952.79                155.51  ...   \n",
       "4              35330.31                494.01  ...   \n",
       "...                 ...                   ...  ...   \n",
       "165081          9569.41                159.49  ...   \n",
       "165082         21525.52                586.27  ...   \n",
       "165083         13773.38                232.53  ...   \n",
       "165084          3266.04                524.72  ...   \n",
       "165085         16699.90                378.28  ...   \n",
       "\n",
       "        avg_monthly_salary_enterprise_index wheat_purchase_price_index  \\\n",
       "0                                     103.7                       92.3   \n",
       "1                                     103.7                       92.3   \n",
       "2                                     103.7                       92.3   \n",
       "3                                     103.7                       92.3   \n",
       "4                                     103.7                       92.3   \n",
       "...                                     ...                        ...   \n",
       "165081                                104.4                       93.3   \n",
       "165082                                104.4                       93.3   \n",
       "165083                                104.4                       93.3   \n",
       "165084                                104.4                       93.3   \n",
       "165085                                104.4                       93.3   \n",
       "\n",
       "       milk_purchase_price_index production_price_energy_index  \\\n",
       "0                          107.4                          98.2   \n",
       "1                          107.4                          98.2   \n",
       "2                          107.4                          98.2   \n",
       "3                          107.4                          98.2   \n",
       "4                          107.4                          98.2   \n",
       "...                          ...                           ...   \n",
       "165081                     102.8                          97.9   \n",
       "165082                     102.8                          97.9   \n",
       "165083                     102.8                          97.9   \n",
       "165084                     102.8                          97.9   \n",
       "165085                     102.8                          97.9   \n",
       "\n",
       "        production_price_water_supply_index inflation  \\\n",
       "0                                     102.3      99.8   \n",
       "1                                     102.3      99.8   \n",
       "2                                     102.3      99.8   \n",
       "3                                     102.3      99.8   \n",
       "4                                     102.3      99.8   \n",
       "...                                     ...       ...   \n",
       "165081                                101.7      99.5   \n",
       "165082                                101.7      99.5   \n",
       "165083                                101.7      99.5   \n",
       "165084                                101.7      99.5   \n",
       "165085                                101.7      99.5   \n",
       "\n",
       "       inflation_apartment_usage  new_flats economy_index  \\\n",
       "0                           99.6      16620          -9.1   \n",
       "1                           99.6      16620          -9.1   \n",
       "2                           99.6      16620          -9.1   \n",
       "3                           99.6      16620          -9.1   \n",
       "4                           99.6      16620          -9.1   \n",
       "...                          ...        ...           ...   \n",
       "165081                      99.5      12665          -5.4   \n",
       "165082                      99.5      12665          -5.4   \n",
       "165083                      99.5      12665          -5.4   \n",
       "165084                      99.5      12665          -5.4   \n",
       "165085                      99.5      12665          -5.4   \n",
       "\n",
       "       economy_index_real_estate  \n",
       "0                           12.5  \n",
       "1                           12.5  \n",
       "2                           12.5  \n",
       "3                           12.5  \n",
       "4                           12.5  \n",
       "...                          ...  \n",
       "165081                      10.8  \n",
       "165082                      10.8  \n",
       "165083                      10.8  \n",
       "165084                      10.8  \n",
       "165085                      10.8  \n",
       "\n",
       "[165086 rows x 39 columns]"
      ],
      "text/html": "<div>\n<style scoped>\n    .dataframe tbody tr th:only-of-type {\n        vertical-align: middle;\n    }\n\n    .dataframe tbody tr th {\n        vertical-align: top;\n    }\n\n    .dataframe thead th {\n        text-align: right;\n    }\n</style>\n<table border=\"1\" class=\"dataframe\">\n  <thead>\n    <tr style=\"text-align: right;\">\n      <th></th>\n      <th>date</th>\n      <th>id</th>\n      <th>years_to_matur</th>\n      <th>age_owner_years</th>\n      <th>original_matur_years</th>\n      <th>client_rate</th>\n      <th>original_volume</th>\n      <th>age_loan_years</th>\n      <th>volume_schedule</th>\n      <th>planned_installments</th>\n      <th>...</th>\n      <th>avg_monthly_salary_enterprise_index</th>\n      <th>wheat_purchase_price_index</th>\n      <th>milk_purchase_price_index</th>\n      <th>production_price_energy_index</th>\n      <th>production_price_water_supply_index</th>\n      <th>inflation</th>\n      <th>inflation_apartment_usage</th>\n      <th>new_flats</th>\n      <th>economy_index</th>\n      <th>economy_index_real_estate</th>\n    </tr>\n  </thead>\n  <tbody>\n    <tr>\n      <th>0</th>\n      <td>2016-10-31</td>\n      <td>1</td>\n      <td>11.49</td>\n      <td>44.22</td>\n      <td>25.01</td>\n      <td>0.0342</td>\n      <td>51850.00</td>\n      <td>13.53</td>\n      <td>33397.66</td>\n      <td>196.04</td>\n      <td>...</td>\n      <td>103.7</td>\n      <td>92.3</td>\n      <td>107.4</td>\n      <td>98.2</td>\n      <td>102.3</td>\n      <td>99.8</td>\n      <td>99.6</td>\n      <td>16620</td>\n      <td>-9.1</td>\n      <td>12.5</td>\n    </tr>\n    <tr>\n      <th>1</th>\n      <td>2016-10-31</td>\n      <td>2</td>\n      <td>6.52</td>\n      <td>56.79</td>\n      <td>21.93</td>\n      <td>0.0342</td>\n      <td>155550.00</td>\n      <td>15.41</td>\n      <td>86282.04</td>\n      <td>623.61</td>\n      <td>...</td>\n      <td>103.7</td>\n      <td>92.3</td>\n      <td>107.4</td>\n      <td>98.2</td>\n      <td>102.3</td>\n      <td>99.8</td>\n      <td>99.6</td>\n      <td>16620</td>\n      <td>-9.1</td>\n      <td>12.5</td>\n    </tr>\n    <tr>\n      <th>2</th>\n      <td>2016-10-31</td>\n      <td>3</td>\n      <td>9.37</td>\n      <td>43.99</td>\n      <td>25.02</td>\n      <td>0.0432</td>\n      <td>70516.00</td>\n      <td>15.64</td>\n      <td>39803.26</td>\n      <td>282.97</td>\n      <td>...</td>\n      <td>103.7</td>\n      <td>92.3</td>\n      <td>107.4</td>\n      <td>98.2</td>\n      <td>102.3</td>\n      <td>99.8</td>\n      <td>99.6</td>\n      <td>16620</td>\n      <td>-9.1</td>\n      <td>12.5</td>\n    </tr>\n    <tr>\n      <th>3</th>\n      <td>2016-10-31</td>\n      <td>4</td>\n      <td>6.42</td>\n      <td>40.20</td>\n      <td>20.01</td>\n      <td>0.0850</td>\n      <td>31110.00</td>\n      <td>13.59</td>\n      <td>15952.79</td>\n      <td>155.51</td>\n      <td>...</td>\n      <td>103.7</td>\n      <td>92.3</td>\n      <td>107.4</td>\n      <td>98.2</td>\n      <td>102.3</td>\n      <td>99.8</td>\n      <td>99.6</td>\n      <td>16620</td>\n      <td>-9.1</td>\n      <td>12.5</td>\n    </tr>\n    <tr>\n      <th>4</th>\n      <td>2016-10-31</td>\n      <td>5</td>\n      <td>5.44</td>\n      <td>55.12</td>\n      <td>19.27</td>\n      <td>0.0279</td>\n      <td>336431.43</td>\n      <td>13.83</td>\n      <td>35330.31</td>\n      <td>494.01</td>\n      <td>...</td>\n      <td>103.7</td>\n      <td>92.3</td>\n      <td>107.4</td>\n      <td>98.2</td>\n      <td>102.3</td>\n      <td>99.8</td>\n      <td>99.6</td>\n      <td>16620</td>\n      <td>-9.1</td>\n      <td>12.5</td>\n    </tr>\n    <tr>\n      <th>...</th>\n      <td>...</td>\n      <td>...</td>\n      <td>...</td>\n      <td>...</td>\n      <td>...</td>\n      <td>...</td>\n      <td>...</td>\n      <td>...</td>\n      <td>...</td>\n      <td>...</td>\n      <td>...</td>\n      <td>...</td>\n      <td>...</td>\n      <td>...</td>\n      <td>...</td>\n      <td>...</td>\n      <td>...</td>\n      <td>...</td>\n      <td>...</td>\n      <td>...</td>\n      <td>...</td>\n    </tr>\n    <tr>\n      <th>165081</th>\n      <td>2016-09-30</td>\n      <td>4655</td>\n      <td>4.25</td>\n      <td>49.42</td>\n      <td>5.00</td>\n      <td>0.0730</td>\n      <td>31110.00</td>\n      <td>0.75</td>\n      <td>9569.41</td>\n      <td>159.49</td>\n      <td>...</td>\n      <td>104.4</td>\n      <td>93.3</td>\n      <td>102.8</td>\n      <td>97.9</td>\n      <td>101.7</td>\n      <td>99.5</td>\n      <td>99.5</td>\n      <td>12665</td>\n      <td>-5.4</td>\n      <td>10.8</td>\n    </tr>\n    <tr>\n      <th>165082</th>\n      <td>2016-09-30</td>\n      <td>4656</td>\n      <td>2.83</td>\n      <td>48.84</td>\n      <td>3.00</td>\n      <td>0.0530</td>\n      <td>22693.45</td>\n      <td>0.17</td>\n      <td>21525.52</td>\n      <td>586.27</td>\n      <td>...</td>\n      <td>104.4</td>\n      <td>93.3</td>\n      <td>102.8</td>\n      <td>97.9</td>\n      <td>101.7</td>\n      <td>99.5</td>\n      <td>99.5</td>\n      <td>12665</td>\n      <td>-5.4</td>\n      <td>10.8</td>\n    </tr>\n    <tr>\n      <th>165083</th>\n      <td>2016-09-30</td>\n      <td>4657</td>\n      <td>4.31</td>\n      <td>49.34</td>\n      <td>4.98</td>\n      <td>0.0699</td>\n      <td>15555.00</td>\n      <td>0.67</td>\n      <td>13773.38</td>\n      <td>232.53</td>\n      <td>...</td>\n      <td>104.4</td>\n      <td>93.3</td>\n      <td>102.8</td>\n      <td>97.9</td>\n      <td>101.7</td>\n      <td>99.5</td>\n      <td>99.5</td>\n      <td>12665</td>\n      <td>-5.4</td>\n      <td>10.8</td>\n    </tr>\n    <tr>\n      <th>165084</th>\n      <td>2016-09-30</td>\n      <td>4658</td>\n      <td>1.00</td>\n      <td>50.67</td>\n      <td>3.01</td>\n      <td>0.0730</td>\n      <td>9125.60</td>\n      <td>2.00</td>\n      <td>3266.04</td>\n      <td>524.72</td>\n      <td>...</td>\n      <td>104.4</td>\n      <td>93.3</td>\n      <td>102.8</td>\n      <td>97.9</td>\n      <td>101.7</td>\n      <td>99.5</td>\n      <td>99.5</td>\n      <td>12665</td>\n      <td>-5.4</td>\n      <td>10.8</td>\n    </tr>\n    <tr>\n      <th>165085</th>\n      <td>2016-09-30</td>\n      <td>4659</td>\n      <td>3.35</td>\n      <td>50.34</td>\n      <td>5.02</td>\n      <td>0.0530</td>\n      <td>23442.56</td>\n      <td>1.67</td>\n      <td>16699.90</td>\n      <td>378.28</td>\n      <td>...</td>\n      <td>104.4</td>\n      <td>93.3</td>\n      <td>102.8</td>\n      <td>97.9</td>\n      <td>101.7</td>\n      <td>99.5</td>\n      <td>99.5</td>\n      <td>12665</td>\n      <td>-5.4</td>\n      <td>10.8</td>\n    </tr>\n  </tbody>\n</table>\n<p>165086 rows × 39 columns</p>\n</div>"
     },
     "metadata": {},
     "execution_count": 15
    }
   ],
   "source": [
    "data_in_sample"
   ]
  },
  {
   "cell_type": "code",
   "execution_count": 16,
   "metadata": {},
   "outputs": [
    {
     "output_type": "execute_result",
     "data": {
      "text/plain": [
       "            date    id  years_to_matur  age_owner_years  original_matur_years  \\\n",
       "0     2020-03-31     1            8.07            47.63                 25.01   \n",
       "1     2020-03-31     9            2.42            68.03                 18.48   \n",
       "2     2020-03-31    10            6.41            49.62                 20.06   \n",
       "3     2020-03-31    18            1.52            69.47                 15.19   \n",
       "4     2020-03-31    19           16.83            43.08                 30.42   \n",
       "...          ...   ...             ...              ...                   ...   \n",
       "17527 2021-02-28  5351           18.44            39.97                 20.36   \n",
       "17528 2021-02-28  5352           18.22            31.79                 20.13   \n",
       "17529 2021-02-28  5353            8.52            36.67                 10.44   \n",
       "17530 2021-02-28  5354           28.23            30.97                 30.14   \n",
       "17531 2021-02-28  5355            8.15            38.49                 10.06   \n",
       "\n",
       "       client_rate  original_volume  age_loan_years  volume_schedule  \\\n",
       "0           0.0342         51850.00           16.94         24802.77   \n",
       "1           0.0260        125341.39           16.06          5617.59   \n",
       "2           0.0259        285175.00           13.66         85393.60   \n",
       "3           0.0269        312033.30           13.67         38523.61   \n",
       "4           0.0258        177223.30           13.59        126221.72   \n",
       "...            ...              ...             ...              ...   \n",
       "17527       0.0362        259250.00            1.92        241309.99   \n",
       "17528       0.0356        207400.00            1.92        194039.20   \n",
       "17529       0.0373        103700.00            1.92         87685.95   \n",
       "17530       0.0356        362950.00            1.92        350829.79   \n",
       "17531       0.0369        186660.00            1.91        150365.02   \n",
       "\n",
       "       planned_installments  ... avg_monthly_salary_enterprise_index  \\\n",
       "0                    223.30  ...                               101.8   \n",
       "1                    184.33  ...                               101.8   \n",
       "2                   1109.02  ...                               101.8   \n",
       "3                   1988.04  ...                               101.8   \n",
       "4                    494.27  ...                               101.8   \n",
       "...                     ...  ...                                 ...   \n",
       "17527                724.69  ...                               102.1   \n",
       "17528                676.54  ...                               102.1   \n",
       "17529                519.88  ...                               102.1   \n",
       "17530                684.04  ...                               102.1   \n",
       "17531               1261.91  ...                               102.1   \n",
       "\n",
       "      wheat_purchase_price_index milk_purchase_price_index  \\\n",
       "0                           89.6                      99.3   \n",
       "1                           89.6                      99.3   \n",
       "2                           89.6                      99.3   \n",
       "3                           89.6                      99.3   \n",
       "4                           89.6                      99.3   \n",
       "...                          ...                       ...   \n",
       "17527                      124.4                     108.6   \n",
       "17528                      124.4                     108.6   \n",
       "17529                      124.4                     108.6   \n",
       "17530                      124.4                     108.6   \n",
       "17531                      124.4                     108.6   \n",
       "\n",
       "       production_price_energy_index production_price_water_supply_index  \\\n",
       "0                              103.3                               105.8   \n",
       "1                              103.3                               105.8   \n",
       "2                              103.3                               105.8   \n",
       "3                              103.3                               105.8   \n",
       "4                              103.3                               105.8   \n",
       "...                              ...                                 ...   \n",
       "17527                          101.2                               103.1   \n",
       "17528                          101.2                               103.1   \n",
       "17529                          101.2                               103.1   \n",
       "17530                          101.2                               103.1   \n",
       "17531                          101.2                               103.1   \n",
       "\n",
       "      inflation  inflation_apartment_usage new_flats economy_index  \\\n",
       "0         104.6                      107.5     15580          -1.9   \n",
       "1         104.6                      107.5     15580          -1.9   \n",
       "2         104.6                      107.5     15580          -1.9   \n",
       "3         104.6                      107.5     15580          -1.9   \n",
       "4         104.6                      107.5     15580          -1.9   \n",
       "...         ...                        ...       ...           ...   \n",
       "17527     102.4                      106.1     16723         -17.7   \n",
       "17528     102.4                      106.1     16723         -17.7   \n",
       "17529     102.4                      106.1     16723         -17.7   \n",
       "17530     102.4                      106.1     16723         -17.7   \n",
       "17531     102.4                      106.1     16723         -17.7   \n",
       "\n",
       "       economy_index_real_estate  \n",
       "0                            6.4  \n",
       "1                            6.4  \n",
       "2                            6.4  \n",
       "3                            6.4  \n",
       "4                            6.4  \n",
       "...                          ...  \n",
       "17527                       -4.2  \n",
       "17528                       -4.2  \n",
       "17529                       -4.2  \n",
       "17530                       -4.2  \n",
       "17531                       -4.2  \n",
       "\n",
       "[17532 rows x 38 columns]"
      ],
      "text/html": "<div>\n<style scoped>\n    .dataframe tbody tr th:only-of-type {\n        vertical-align: middle;\n    }\n\n    .dataframe tbody tr th {\n        vertical-align: top;\n    }\n\n    .dataframe thead th {\n        text-align: right;\n    }\n</style>\n<table border=\"1\" class=\"dataframe\">\n  <thead>\n    <tr style=\"text-align: right;\">\n      <th></th>\n      <th>date</th>\n      <th>id</th>\n      <th>years_to_matur</th>\n      <th>age_owner_years</th>\n      <th>original_matur_years</th>\n      <th>client_rate</th>\n      <th>original_volume</th>\n      <th>age_loan_years</th>\n      <th>volume_schedule</th>\n      <th>planned_installments</th>\n      <th>...</th>\n      <th>avg_monthly_salary_enterprise_index</th>\n      <th>wheat_purchase_price_index</th>\n      <th>milk_purchase_price_index</th>\n      <th>production_price_energy_index</th>\n      <th>production_price_water_supply_index</th>\n      <th>inflation</th>\n      <th>inflation_apartment_usage</th>\n      <th>new_flats</th>\n      <th>economy_index</th>\n      <th>economy_index_real_estate</th>\n    </tr>\n  </thead>\n  <tbody>\n    <tr>\n      <th>0</th>\n      <td>2020-03-31</td>\n      <td>1</td>\n      <td>8.07</td>\n      <td>47.63</td>\n      <td>25.01</td>\n      <td>0.0342</td>\n      <td>51850.00</td>\n      <td>16.94</td>\n      <td>24802.77</td>\n      <td>223.30</td>\n      <td>...</td>\n      <td>101.8</td>\n      <td>89.6</td>\n      <td>99.3</td>\n      <td>103.3</td>\n      <td>105.8</td>\n      <td>104.6</td>\n      <td>107.5</td>\n      <td>15580</td>\n      <td>-1.9</td>\n      <td>6.4</td>\n    </tr>\n    <tr>\n      <th>1</th>\n      <td>2020-03-31</td>\n      <td>9</td>\n      <td>2.42</td>\n      <td>68.03</td>\n      <td>18.48</td>\n      <td>0.0260</td>\n      <td>125341.39</td>\n      <td>16.06</td>\n      <td>5617.59</td>\n      <td>184.33</td>\n      <td>...</td>\n      <td>101.8</td>\n      <td>89.6</td>\n      <td>99.3</td>\n      <td>103.3</td>\n      <td>105.8</td>\n      <td>104.6</td>\n      <td>107.5</td>\n      <td>15580</td>\n      <td>-1.9</td>\n      <td>6.4</td>\n    </tr>\n    <tr>\n      <th>2</th>\n      <td>2020-03-31</td>\n      <td>10</td>\n      <td>6.41</td>\n      <td>49.62</td>\n      <td>20.06</td>\n      <td>0.0259</td>\n      <td>285175.00</td>\n      <td>13.66</td>\n      <td>85393.60</td>\n      <td>1109.02</td>\n      <td>...</td>\n      <td>101.8</td>\n      <td>89.6</td>\n      <td>99.3</td>\n      <td>103.3</td>\n      <td>105.8</td>\n      <td>104.6</td>\n      <td>107.5</td>\n      <td>15580</td>\n      <td>-1.9</td>\n      <td>6.4</td>\n    </tr>\n    <tr>\n      <th>3</th>\n      <td>2020-03-31</td>\n      <td>18</td>\n      <td>1.52</td>\n      <td>69.47</td>\n      <td>15.19</td>\n      <td>0.0269</td>\n      <td>312033.30</td>\n      <td>13.67</td>\n      <td>38523.61</td>\n      <td>1988.04</td>\n      <td>...</td>\n      <td>101.8</td>\n      <td>89.6</td>\n      <td>99.3</td>\n      <td>103.3</td>\n      <td>105.8</td>\n      <td>104.6</td>\n      <td>107.5</td>\n      <td>15580</td>\n      <td>-1.9</td>\n      <td>6.4</td>\n    </tr>\n    <tr>\n      <th>4</th>\n      <td>2020-03-31</td>\n      <td>19</td>\n      <td>16.83</td>\n      <td>43.08</td>\n      <td>30.42</td>\n      <td>0.0258</td>\n      <td>177223.30</td>\n      <td>13.59</td>\n      <td>126221.72</td>\n      <td>494.27</td>\n      <td>...</td>\n      <td>101.8</td>\n      <td>89.6</td>\n      <td>99.3</td>\n      <td>103.3</td>\n      <td>105.8</td>\n      <td>104.6</td>\n      <td>107.5</td>\n      <td>15580</td>\n      <td>-1.9</td>\n      <td>6.4</td>\n    </tr>\n    <tr>\n      <th>...</th>\n      <td>...</td>\n      <td>...</td>\n      <td>...</td>\n      <td>...</td>\n      <td>...</td>\n      <td>...</td>\n      <td>...</td>\n      <td>...</td>\n      <td>...</td>\n      <td>...</td>\n      <td>...</td>\n      <td>...</td>\n      <td>...</td>\n      <td>...</td>\n      <td>...</td>\n      <td>...</td>\n      <td>...</td>\n      <td>...</td>\n      <td>...</td>\n      <td>...</td>\n      <td>...</td>\n    </tr>\n    <tr>\n      <th>17527</th>\n      <td>2021-02-28</td>\n      <td>5351</td>\n      <td>18.44</td>\n      <td>39.97</td>\n      <td>20.36</td>\n      <td>0.0362</td>\n      <td>259250.00</td>\n      <td>1.92</td>\n      <td>241309.99</td>\n      <td>724.69</td>\n      <td>...</td>\n      <td>102.1</td>\n      <td>124.4</td>\n      <td>108.6</td>\n      <td>101.2</td>\n      <td>103.1</td>\n      <td>102.4</td>\n      <td>106.1</td>\n      <td>16723</td>\n      <td>-17.7</td>\n      <td>-4.2</td>\n    </tr>\n    <tr>\n      <th>17528</th>\n      <td>2021-02-28</td>\n      <td>5352</td>\n      <td>18.22</td>\n      <td>31.79</td>\n      <td>20.13</td>\n      <td>0.0356</td>\n      <td>207400.00</td>\n      <td>1.92</td>\n      <td>194039.20</td>\n      <td>676.54</td>\n      <td>...</td>\n      <td>102.1</td>\n      <td>124.4</td>\n      <td>108.6</td>\n      <td>101.2</td>\n      <td>103.1</td>\n      <td>102.4</td>\n      <td>106.1</td>\n      <td>16723</td>\n      <td>-17.7</td>\n      <td>-4.2</td>\n    </tr>\n    <tr>\n      <th>17529</th>\n      <td>2021-02-28</td>\n      <td>5353</td>\n      <td>8.52</td>\n      <td>36.67</td>\n      <td>10.44</td>\n      <td>0.0373</td>\n      <td>103700.00</td>\n      <td>1.92</td>\n      <td>87685.95</td>\n      <td>519.88</td>\n      <td>...</td>\n      <td>102.1</td>\n      <td>124.4</td>\n      <td>108.6</td>\n      <td>101.2</td>\n      <td>103.1</td>\n      <td>102.4</td>\n      <td>106.1</td>\n      <td>16723</td>\n      <td>-17.7</td>\n      <td>-4.2</td>\n    </tr>\n    <tr>\n      <th>17530</th>\n      <td>2021-02-28</td>\n      <td>5354</td>\n      <td>28.23</td>\n      <td>30.97</td>\n      <td>30.14</td>\n      <td>0.0356</td>\n      <td>362950.00</td>\n      <td>1.92</td>\n      <td>350829.79</td>\n      <td>684.04</td>\n      <td>...</td>\n      <td>102.1</td>\n      <td>124.4</td>\n      <td>108.6</td>\n      <td>101.2</td>\n      <td>103.1</td>\n      <td>102.4</td>\n      <td>106.1</td>\n      <td>16723</td>\n      <td>-17.7</td>\n      <td>-4.2</td>\n    </tr>\n    <tr>\n      <th>17531</th>\n      <td>2021-02-28</td>\n      <td>5355</td>\n      <td>8.15</td>\n      <td>38.49</td>\n      <td>10.06</td>\n      <td>0.0369</td>\n      <td>186660.00</td>\n      <td>1.91</td>\n      <td>150365.02</td>\n      <td>1261.91</td>\n      <td>...</td>\n      <td>102.1</td>\n      <td>124.4</td>\n      <td>108.6</td>\n      <td>101.2</td>\n      <td>103.1</td>\n      <td>102.4</td>\n      <td>106.1</td>\n      <td>16723</td>\n      <td>-17.7</td>\n      <td>-4.2</td>\n    </tr>\n  </tbody>\n</table>\n<p>17532 rows × 38 columns</p>\n</div>"
     },
     "metadata": {},
     "execution_count": 16
    }
   ],
   "source": [
    "data_out_of_sample"
   ]
  },
  {
   "cell_type": "code",
   "execution_count": 17,
   "metadata": {},
   "outputs": [],
   "source": [
    "train_cutoff = datetime.strptime(\"2018-01-31\", \"%Y-%m-%d\")\n",
    "val_cutoff = datetime.strptime(\"2019-02-28\", \"%Y-%m-%d\")"
   ]
  },
  {
   "cell_type": "code",
   "execution_count": 18,
   "metadata": {},
   "outputs": [],
   "source": [
    "data_train = data_in_sample.query(f\"date<='{train_cutoff}'\")\n",
    "data_val = data_in_sample.query(f\"date>'{train_cutoff}' & date<='{val_cutoff}'\")\n",
    "data_test = data_in_sample.query(f\"date>'{val_cutoff}'\")"
   ]
  },
  {
   "cell_type": "code",
   "execution_count": 19,
   "metadata": {},
   "outputs": [
    {
     "output_type": "execute_result",
     "data": {
      "text/plain": [
       "(Timestamp('2016-01-31 00:00:00'),\n",
       " Timestamp('2018-01-31 00:00:00'),\n",
       " (101960, 39))"
      ]
     },
     "metadata": {},
     "execution_count": 19
    }
   ],
   "source": [
    "data_train['date'].min(), data_train['date'].max(), data_train.shape"
   ]
  },
  {
   "cell_type": "code",
   "execution_count": 20,
   "metadata": {},
   "outputs": [
    {
     "output_type": "execute_result",
     "data": {
      "text/plain": [
       "(Timestamp('2018-02-28 00:00:00'),\n",
       " Timestamp('2019-02-28 00:00:00'),\n",
       " (38765, 39))"
      ]
     },
     "metadata": {},
     "execution_count": 20
    }
   ],
   "source": [
    "data_val['date'].min(), data_val['date'].max(), data_val.shape"
   ]
  },
  {
   "cell_type": "code",
   "execution_count": 21,
   "metadata": {},
   "outputs": [
    {
     "output_type": "execute_result",
     "data": {
      "text/plain": [
       "(Timestamp('2019-03-31 00:00:00'),\n",
       " Timestamp('2020-02-29 00:00:00'),\n",
       " (24361, 39))"
      ]
     },
     "metadata": {},
     "execution_count": 21
    }
   ],
   "source": [
    "data_test['date'].min(), data_test['date'].max(), data_test.shape"
   ]
  },
  {
   "cell_type": "code",
   "execution_count": 22,
   "metadata": {},
   "outputs": [],
   "source": [
    "data_train.to_csv(\"../data/data_train.csv\")\n",
    "data_val.to_csv(\"../data/data_val.csv\")\n",
    "data_test.to_csv(\"../data/data_test.csv\")\n",
    "data_out_of_sample.to_csv(\"../data/data_out_of_sample.csv\")"
   ]
  },
  {
   "cell_type": "code",
   "execution_count": null,
   "metadata": {},
   "outputs": [],
   "source": []
  }
 ]
}