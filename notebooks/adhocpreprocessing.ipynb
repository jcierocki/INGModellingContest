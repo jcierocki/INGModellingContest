{
 "metadata": {
  "language_info": {
   "codemirror_mode": {
    "name": "ipython",
    "version": 3
   },
   "file_extension": ".py",
   "mimetype": "text/x-python",
   "name": "python",
   "nbconvert_exporter": "python",
   "pygments_lexer": "ipython3",
   "version": "3.8.6"
  },
  "orig_nbformat": 2,
  "kernelspec": {
   "name": "python386jvsc74a57bd0ee0c5e22f9e903b2ede28f785c5fc373838c04aefe8e8ffaed40ac50991ba0c1",
   "display_name": "Python 3.8.6 64-bit ('INGModellingContest-QFb3_eOW': pipenv)"
  }
 },
 "nbformat": 4,
 "nbformat_minor": 2,
 "cells": [
  {
   "cell_type": "code",
   "execution_count": 11,
   "metadata": {},
   "outputs": [],
   "source": [
    "import pandas as pd\n",
    "import sys\n",
    "from datetime import datetime\n",
    "sys.path.append('..')"
   ]
  },
  {
   "cell_type": "code",
   "execution_count": 2,
   "metadata": {},
   "outputs": [],
   "source": [
    "data_in_sample = pd.read_excel(\"../data/Task_data.xlsx\", sheet_name=\"in-sample\", engine='openpyxl')\n",
    "data_out_of_sample = pd.read_excel(\"../data/Task_data.xlsx\", sheet_name=\"out-of-sample\", engine='openpyxl')\n",
    "data_exog = pd.read_excel(\"../data/Task_data.xlsx\", sheet_name=\"macro\", engine='openpyxl')"
   ]
  },
  {
   "cell_type": "code",
   "execution_count": 3,
   "metadata": {},
   "outputs": [
    {
     "output_type": "execute_result",
     "data": {
      "text/plain": [
       "((165086, 23), (17532, 22), (62, 22))"
      ]
     },
     "metadata": {},
     "execution_count": 3
    }
   ],
   "source": [
    "data_in_sample.shape, data_out_of_sample.shape, data_exog.shape "
   ]
  },
  {
   "cell_type": "code",
   "execution_count": 5,
   "metadata": {},
   "outputs": [],
   "source": [
    "data_in_sample[\"date\"] = data_in_sample[\"date\"].astype(\"datetime64[ns]\")\n",
    "data_out_of_sample[\"date\"] = data_out_of_sample[\"date\"].astype(\"datetime64[ns]\")\n",
    "data_exog[\"date_str\"] = pd.to_datetime(data_exog[\"date_str\"], format='%Y%m%d').astype(\"datetime64[ns]\")"
   ]
  },
  {
   "cell_type": "code",
   "execution_count": 6,
   "metadata": {},
   "outputs": [],
   "source": [
    "data_exog = data_exog[[col for col in data_exog.columns if not col.startswith(\"Unnamed\")]]"
   ]
  },
  {
   "cell_type": "code",
   "execution_count": 7,
   "metadata": {},
   "outputs": [],
   "source": [
    "data_in_sample = pd.merge(data_in_sample, data_exog, left_on=\"date\", right_on=\"date_str\")\n",
    "data_out_of_sample = pd.merge(data_out_of_sample, data_exog, left_on=\"date\", right_on=\"date_str\")"
   ]
  },
  {
   "cell_type": "code",
   "execution_count": 9,
   "metadata": {},
   "outputs": [
    {
     "output_type": "execute_result",
     "data": {
      "text/plain": [
       "             date  date_str_x    id  years_to_matur  age_owner_years  \\\n",
       "0      2016-10-31    20161031     1           11.49            44.22   \n",
       "1      2016-10-31    20161031     2            6.52            56.79   \n",
       "2      2016-10-31    20161031     3            9.37            43.99   \n",
       "3      2016-10-31    20161031     4            6.42            40.20   \n",
       "4      2016-10-31    20161031     5            5.44            55.12   \n",
       "...           ...         ...   ...             ...              ...   \n",
       "165081 2016-09-30    20160930  4655            4.25            49.42   \n",
       "165082 2016-09-30    20160930  4656            2.83            48.84   \n",
       "165083 2016-09-30    20160930  4657            4.31            49.34   \n",
       "165084 2016-09-30    20160930  4658            1.00            50.67   \n",
       "165085 2016-09-30    20160930  4659            3.35            50.34   \n",
       "\n",
       "        original_matur_years  client_rate  original_volume  age_loan_years  \\\n",
       "0                      25.01       0.0342         51850.00           13.53   \n",
       "1                      21.93       0.0342        155550.00           15.41   \n",
       "2                      25.02       0.0432         70516.00           15.64   \n",
       "3                      20.01       0.0850         31110.00           13.59   \n",
       "4                      19.27       0.0279        336431.43           13.83   \n",
       "...                      ...          ...              ...             ...   \n",
       "165081                  5.00       0.0730         31110.00            0.75   \n",
       "165082                  3.00       0.0530         22693.45            0.17   \n",
       "165083                  4.98       0.0699         15555.00            0.67   \n",
       "165084                  3.01       0.0730          9125.60            2.00   \n",
       "165085                  5.02       0.0530         23442.56            1.67   \n",
       "\n",
       "        outstanding_volume  ...  avg_monthly_salary_enterprise_index  \\\n",
       "0                 33397.66  ...                                103.7   \n",
       "1                 86282.04  ...                                103.7   \n",
       "2                 39803.26  ...                                103.7   \n",
       "3                 15952.79  ...                                103.7   \n",
       "4                 35330.31  ...                                103.7   \n",
       "...                    ...  ...                                  ...   \n",
       "165081             9569.41  ...                                104.4   \n",
       "165082            21525.52  ...                                104.4   \n",
       "165083            13773.38  ...                                104.4   \n",
       "165084             3266.04  ...                                104.4   \n",
       "165085            16699.90  ...                                104.4   \n",
       "\n",
       "        wheat_purchase_price_index milk_purchase_price_index  \\\n",
       "0                             92.3                     107.4   \n",
       "1                             92.3                     107.4   \n",
       "2                             92.3                     107.4   \n",
       "3                             92.3                     107.4   \n",
       "4                             92.3                     107.4   \n",
       "...                            ...                       ...   \n",
       "165081                        93.3                     102.8   \n",
       "165082                        93.3                     102.8   \n",
       "165083                        93.3                     102.8   \n",
       "165084                        93.3                     102.8   \n",
       "165085                        93.3                     102.8   \n",
       "\n",
       "       production_price_energy_index production_price_water_supply_index  \\\n",
       "0                               98.2                               102.3   \n",
       "1                               98.2                               102.3   \n",
       "2                               98.2                               102.3   \n",
       "3                               98.2                               102.3   \n",
       "4                               98.2                               102.3   \n",
       "...                              ...                                 ...   \n",
       "165081                          97.9                               101.7   \n",
       "165082                          97.9                               101.7   \n",
       "165083                          97.9                               101.7   \n",
       "165084                          97.9                               101.7   \n",
       "165085                          97.9                               101.7   \n",
       "\n",
       "        inflation inflation_apartment_usage new_flats  economy_index  \\\n",
       "0            99.8                      99.6     16620           -9.1   \n",
       "1            99.8                      99.6     16620           -9.1   \n",
       "2            99.8                      99.6     16620           -9.1   \n",
       "3            99.8                      99.6     16620           -9.1   \n",
       "4            99.8                      99.6     16620           -9.1   \n",
       "...           ...                       ...       ...            ...   \n",
       "165081       99.5                      99.5     12665           -5.4   \n",
       "165082       99.5                      99.5     12665           -5.4   \n",
       "165083       99.5                      99.5     12665           -5.4   \n",
       "165084       99.5                      99.5     12665           -5.4   \n",
       "165085       99.5                      99.5     12665           -5.4   \n",
       "\n",
       "       economy_index_real_estate  \n",
       "0                           12.5  \n",
       "1                           12.5  \n",
       "2                           12.5  \n",
       "3                           12.5  \n",
       "4                           12.5  \n",
       "...                          ...  \n",
       "165081                      10.8  \n",
       "165082                      10.8  \n",
       "165083                      10.8  \n",
       "165084                      10.8  \n",
       "165085                      10.8  \n",
       "\n",
       "[165086 rows x 41 columns]"
      ],
      "text/html": "<div>\n<style scoped>\n    .dataframe tbody tr th:only-of-type {\n        vertical-align: middle;\n    }\n\n    .dataframe tbody tr th {\n        vertical-align: top;\n    }\n\n    .dataframe thead th {\n        text-align: right;\n    }\n</style>\n<table border=\"1\" class=\"dataframe\">\n  <thead>\n    <tr style=\"text-align: right;\">\n      <th></th>\n      <th>date</th>\n      <th>date_str_x</th>\n      <th>id</th>\n      <th>years_to_matur</th>\n      <th>age_owner_years</th>\n      <th>original_matur_years</th>\n      <th>client_rate</th>\n      <th>original_volume</th>\n      <th>age_loan_years</th>\n      <th>outstanding_volume</th>\n      <th>...</th>\n      <th>avg_monthly_salary_enterprise_index</th>\n      <th>wheat_purchase_price_index</th>\n      <th>milk_purchase_price_index</th>\n      <th>production_price_energy_index</th>\n      <th>production_price_water_supply_index</th>\n      <th>inflation</th>\n      <th>inflation_apartment_usage</th>\n      <th>new_flats</th>\n      <th>economy_index</th>\n      <th>economy_index_real_estate</th>\n    </tr>\n  </thead>\n  <tbody>\n    <tr>\n      <th>0</th>\n      <td>2016-10-31</td>\n      <td>20161031</td>\n      <td>1</td>\n      <td>11.49</td>\n      <td>44.22</td>\n      <td>25.01</td>\n      <td>0.0342</td>\n      <td>51850.00</td>\n      <td>13.53</td>\n      <td>33397.66</td>\n      <td>...</td>\n      <td>103.7</td>\n      <td>92.3</td>\n      <td>107.4</td>\n      <td>98.2</td>\n      <td>102.3</td>\n      <td>99.8</td>\n      <td>99.6</td>\n      <td>16620</td>\n      <td>-9.1</td>\n      <td>12.5</td>\n    </tr>\n    <tr>\n      <th>1</th>\n      <td>2016-10-31</td>\n      <td>20161031</td>\n      <td>2</td>\n      <td>6.52</td>\n      <td>56.79</td>\n      <td>21.93</td>\n      <td>0.0342</td>\n      <td>155550.00</td>\n      <td>15.41</td>\n      <td>86282.04</td>\n      <td>...</td>\n      <td>103.7</td>\n      <td>92.3</td>\n      <td>107.4</td>\n      <td>98.2</td>\n      <td>102.3</td>\n      <td>99.8</td>\n      <td>99.6</td>\n      <td>16620</td>\n      <td>-9.1</td>\n      <td>12.5</td>\n    </tr>\n    <tr>\n      <th>2</th>\n      <td>2016-10-31</td>\n      <td>20161031</td>\n      <td>3</td>\n      <td>9.37</td>\n      <td>43.99</td>\n      <td>25.02</td>\n      <td>0.0432</td>\n      <td>70516.00</td>\n      <td>15.64</td>\n      <td>39803.26</td>\n      <td>...</td>\n      <td>103.7</td>\n      <td>92.3</td>\n      <td>107.4</td>\n      <td>98.2</td>\n      <td>102.3</td>\n      <td>99.8</td>\n      <td>99.6</td>\n      <td>16620</td>\n      <td>-9.1</td>\n      <td>12.5</td>\n    </tr>\n    <tr>\n      <th>3</th>\n      <td>2016-10-31</td>\n      <td>20161031</td>\n      <td>4</td>\n      <td>6.42</td>\n      <td>40.20</td>\n      <td>20.01</td>\n      <td>0.0850</td>\n      <td>31110.00</td>\n      <td>13.59</td>\n      <td>15952.79</td>\n      <td>...</td>\n      <td>103.7</td>\n      <td>92.3</td>\n      <td>107.4</td>\n      <td>98.2</td>\n      <td>102.3</td>\n      <td>99.8</td>\n      <td>99.6</td>\n      <td>16620</td>\n      <td>-9.1</td>\n      <td>12.5</td>\n    </tr>\n    <tr>\n      <th>4</th>\n      <td>2016-10-31</td>\n      <td>20161031</td>\n      <td>5</td>\n      <td>5.44</td>\n      <td>55.12</td>\n      <td>19.27</td>\n      <td>0.0279</td>\n      <td>336431.43</td>\n      <td>13.83</td>\n      <td>35330.31</td>\n      <td>...</td>\n      <td>103.7</td>\n      <td>92.3</td>\n      <td>107.4</td>\n      <td>98.2</td>\n      <td>102.3</td>\n      <td>99.8</td>\n      <td>99.6</td>\n      <td>16620</td>\n      <td>-9.1</td>\n      <td>12.5</td>\n    </tr>\n    <tr>\n      <th>...</th>\n      <td>...</td>\n      <td>...</td>\n      <td>...</td>\n      <td>...</td>\n      <td>...</td>\n      <td>...</td>\n      <td>...</td>\n      <td>...</td>\n      <td>...</td>\n      <td>...</td>\n      <td>...</td>\n      <td>...</td>\n      <td>...</td>\n      <td>...</td>\n      <td>...</td>\n      <td>...</td>\n      <td>...</td>\n      <td>...</td>\n      <td>...</td>\n      <td>...</td>\n      <td>...</td>\n    </tr>\n    <tr>\n      <th>165081</th>\n      <td>2016-09-30</td>\n      <td>20160930</td>\n      <td>4655</td>\n      <td>4.25</td>\n      <td>49.42</td>\n      <td>5.00</td>\n      <td>0.0730</td>\n      <td>31110.00</td>\n      <td>0.75</td>\n      <td>9569.41</td>\n      <td>...</td>\n      <td>104.4</td>\n      <td>93.3</td>\n      <td>102.8</td>\n      <td>97.9</td>\n      <td>101.7</td>\n      <td>99.5</td>\n      <td>99.5</td>\n      <td>12665</td>\n      <td>-5.4</td>\n      <td>10.8</td>\n    </tr>\n    <tr>\n      <th>165082</th>\n      <td>2016-09-30</td>\n      <td>20160930</td>\n      <td>4656</td>\n      <td>2.83</td>\n      <td>48.84</td>\n      <td>3.00</td>\n      <td>0.0530</td>\n      <td>22693.45</td>\n      <td>0.17</td>\n      <td>21525.52</td>\n      <td>...</td>\n      <td>104.4</td>\n      <td>93.3</td>\n      <td>102.8</td>\n      <td>97.9</td>\n      <td>101.7</td>\n      <td>99.5</td>\n      <td>99.5</td>\n      <td>12665</td>\n      <td>-5.4</td>\n      <td>10.8</td>\n    </tr>\n    <tr>\n      <th>165083</th>\n      <td>2016-09-30</td>\n      <td>20160930</td>\n      <td>4657</td>\n      <td>4.31</td>\n      <td>49.34</td>\n      <td>4.98</td>\n      <td>0.0699</td>\n      <td>15555.00</td>\n      <td>0.67</td>\n      <td>13773.38</td>\n      <td>...</td>\n      <td>104.4</td>\n      <td>93.3</td>\n      <td>102.8</td>\n      <td>97.9</td>\n      <td>101.7</td>\n      <td>99.5</td>\n      <td>99.5</td>\n      <td>12665</td>\n      <td>-5.4</td>\n      <td>10.8</td>\n    </tr>\n    <tr>\n      <th>165084</th>\n      <td>2016-09-30</td>\n      <td>20160930</td>\n      <td>4658</td>\n      <td>1.00</td>\n      <td>50.67</td>\n      <td>3.01</td>\n      <td>0.0730</td>\n      <td>9125.60</td>\n      <td>2.00</td>\n      <td>3266.04</td>\n      <td>...</td>\n      <td>104.4</td>\n      <td>93.3</td>\n      <td>102.8</td>\n      <td>97.9</td>\n      <td>101.7</td>\n      <td>99.5</td>\n      <td>99.5</td>\n      <td>12665</td>\n      <td>-5.4</td>\n      <td>10.8</td>\n    </tr>\n    <tr>\n      <th>165085</th>\n      <td>2016-09-30</td>\n      <td>20160930</td>\n      <td>4659</td>\n      <td>3.35</td>\n      <td>50.34</td>\n      <td>5.02</td>\n      <td>0.0530</td>\n      <td>23442.56</td>\n      <td>1.67</td>\n      <td>16699.90</td>\n      <td>...</td>\n      <td>104.4</td>\n      <td>93.3</td>\n      <td>102.8</td>\n      <td>97.9</td>\n      <td>101.7</td>\n      <td>99.5</td>\n      <td>99.5</td>\n      <td>12665</td>\n      <td>-5.4</td>\n      <td>10.8</td>\n    </tr>\n  </tbody>\n</table>\n<p>165086 rows × 41 columns</p>\n</div>"
     },
     "metadata": {},
     "execution_count": 9
    }
   ],
   "source": [
    "data_in_sample"
   ]
  },
  {
   "cell_type": "code",
   "execution_count": 10,
   "metadata": {},
   "outputs": [
    {
     "output_type": "execute_result",
     "data": {
      "text/plain": [
       "            date  date_str_x    id  years_to_matur  age_owner_years  \\\n",
       "0     2020-03-31    20200331     1            8.07            47.63   \n",
       "1     2020-03-31    20200331     9            2.42            68.03   \n",
       "2     2020-03-31    20200331    10            6.41            49.62   \n",
       "3     2020-03-31    20200331    18            1.52            69.47   \n",
       "4     2020-03-31    20200331    19           16.83            43.08   \n",
       "...          ...         ...   ...             ...              ...   \n",
       "17527 2021-02-28    20210228  5351           18.44            39.97   \n",
       "17528 2021-02-28    20210228  5352           18.22            31.79   \n",
       "17529 2021-02-28    20210228  5353            8.52            36.67   \n",
       "17530 2021-02-28    20210228  5354           28.23            30.97   \n",
       "17531 2021-02-28    20210228  5355            8.15            38.49   \n",
       "\n",
       "       original_matur_years  client_rate  original_volume  age_loan_years  \\\n",
       "0                     25.01       0.0342         51850.00           16.94   \n",
       "1                     18.48       0.0260        125341.39           16.06   \n",
       "2                     20.06       0.0259        285175.00           13.66   \n",
       "3                     15.19       0.0269        312033.30           13.67   \n",
       "4                     30.42       0.0258        177223.30           13.59   \n",
       "...                     ...          ...              ...             ...   \n",
       "17527                 20.36       0.0362        259250.00            1.92   \n",
       "17528                 20.13       0.0356        207400.00            1.92   \n",
       "17529                 10.44       0.0373        103700.00            1.92   \n",
       "17530                 30.14       0.0356        362950.00            1.92   \n",
       "17531                 10.06       0.0369        186660.00            1.91   \n",
       "\n",
       "       volume_schedule  ...  avg_monthly_salary_enterprise_index  \\\n",
       "0             24802.77  ...                                101.8   \n",
       "1              5617.59  ...                                101.8   \n",
       "2             85393.60  ...                                101.8   \n",
       "3             38523.61  ...                                101.8   \n",
       "4            126221.72  ...                                101.8   \n",
       "...                ...  ...                                  ...   \n",
       "17527        241309.99  ...                                102.1   \n",
       "17528        194039.20  ...                                102.1   \n",
       "17529         87685.95  ...                                102.1   \n",
       "17530        350829.79  ...                                102.1   \n",
       "17531        150365.02  ...                                102.1   \n",
       "\n",
       "      wheat_purchase_price_index milk_purchase_price_index  \\\n",
       "0                           89.6                      99.3   \n",
       "1                           89.6                      99.3   \n",
       "2                           89.6                      99.3   \n",
       "3                           89.6                      99.3   \n",
       "4                           89.6                      99.3   \n",
       "...                          ...                       ...   \n",
       "17527                      124.4                     108.6   \n",
       "17528                      124.4                     108.6   \n",
       "17529                      124.4                     108.6   \n",
       "17530                      124.4                     108.6   \n",
       "17531                      124.4                     108.6   \n",
       "\n",
       "      production_price_energy_index  production_price_water_supply_index  \\\n",
       "0                             103.3                                105.8   \n",
       "1                             103.3                                105.8   \n",
       "2                             103.3                                105.8   \n",
       "3                             103.3                                105.8   \n",
       "4                             103.3                                105.8   \n",
       "...                             ...                                  ...   \n",
       "17527                         101.2                                103.1   \n",
       "17528                         101.2                                103.1   \n",
       "17529                         101.2                                103.1   \n",
       "17530                         101.2                                103.1   \n",
       "17531                         101.2                                103.1   \n",
       "\n",
       "      inflation inflation_apartment_usage  new_flats economy_index  \\\n",
       "0         104.6                     107.5      15580          -1.9   \n",
       "1         104.6                     107.5      15580          -1.9   \n",
       "2         104.6                     107.5      15580          -1.9   \n",
       "3         104.6                     107.5      15580          -1.9   \n",
       "4         104.6                     107.5      15580          -1.9   \n",
       "...         ...                       ...        ...           ...   \n",
       "17527     102.4                     106.1      16723         -17.7   \n",
       "17528     102.4                     106.1      16723         -17.7   \n",
       "17529     102.4                     106.1      16723         -17.7   \n",
       "17530     102.4                     106.1      16723         -17.7   \n",
       "17531     102.4                     106.1      16723         -17.7   \n",
       "\n",
       "      economy_index_real_estate  \n",
       "0                           6.4  \n",
       "1                           6.4  \n",
       "2                           6.4  \n",
       "3                           6.4  \n",
       "4                           6.4  \n",
       "...                         ...  \n",
       "17527                      -4.2  \n",
       "17528                      -4.2  \n",
       "17529                      -4.2  \n",
       "17530                      -4.2  \n",
       "17531                      -4.2  \n",
       "\n",
       "[17532 rows x 40 columns]"
      ],
      "text/html": "<div>\n<style scoped>\n    .dataframe tbody tr th:only-of-type {\n        vertical-align: middle;\n    }\n\n    .dataframe tbody tr th {\n        vertical-align: top;\n    }\n\n    .dataframe thead th {\n        text-align: right;\n    }\n</style>\n<table border=\"1\" class=\"dataframe\">\n  <thead>\n    <tr style=\"text-align: right;\">\n      <th></th>\n      <th>date</th>\n      <th>date_str_x</th>\n      <th>id</th>\n      <th>years_to_matur</th>\n      <th>age_owner_years</th>\n      <th>original_matur_years</th>\n      <th>client_rate</th>\n      <th>original_volume</th>\n      <th>age_loan_years</th>\n      <th>volume_schedule</th>\n      <th>...</th>\n      <th>avg_monthly_salary_enterprise_index</th>\n      <th>wheat_purchase_price_index</th>\n      <th>milk_purchase_price_index</th>\n      <th>production_price_energy_index</th>\n      <th>production_price_water_supply_index</th>\n      <th>inflation</th>\n      <th>inflation_apartment_usage</th>\n      <th>new_flats</th>\n      <th>economy_index</th>\n      <th>economy_index_real_estate</th>\n    </tr>\n  </thead>\n  <tbody>\n    <tr>\n      <th>0</th>\n      <td>2020-03-31</td>\n      <td>20200331</td>\n      <td>1</td>\n      <td>8.07</td>\n      <td>47.63</td>\n      <td>25.01</td>\n      <td>0.0342</td>\n      <td>51850.00</td>\n      <td>16.94</td>\n      <td>24802.77</td>\n      <td>...</td>\n      <td>101.8</td>\n      <td>89.6</td>\n      <td>99.3</td>\n      <td>103.3</td>\n      <td>105.8</td>\n      <td>104.6</td>\n      <td>107.5</td>\n      <td>15580</td>\n      <td>-1.9</td>\n      <td>6.4</td>\n    </tr>\n    <tr>\n      <th>1</th>\n      <td>2020-03-31</td>\n      <td>20200331</td>\n      <td>9</td>\n      <td>2.42</td>\n      <td>68.03</td>\n      <td>18.48</td>\n      <td>0.0260</td>\n      <td>125341.39</td>\n      <td>16.06</td>\n      <td>5617.59</td>\n      <td>...</td>\n      <td>101.8</td>\n      <td>89.6</td>\n      <td>99.3</td>\n      <td>103.3</td>\n      <td>105.8</td>\n      <td>104.6</td>\n      <td>107.5</td>\n      <td>15580</td>\n      <td>-1.9</td>\n      <td>6.4</td>\n    </tr>\n    <tr>\n      <th>2</th>\n      <td>2020-03-31</td>\n      <td>20200331</td>\n      <td>10</td>\n      <td>6.41</td>\n      <td>49.62</td>\n      <td>20.06</td>\n      <td>0.0259</td>\n      <td>285175.00</td>\n      <td>13.66</td>\n      <td>85393.60</td>\n      <td>...</td>\n      <td>101.8</td>\n      <td>89.6</td>\n      <td>99.3</td>\n      <td>103.3</td>\n      <td>105.8</td>\n      <td>104.6</td>\n      <td>107.5</td>\n      <td>15580</td>\n      <td>-1.9</td>\n      <td>6.4</td>\n    </tr>\n    <tr>\n      <th>3</th>\n      <td>2020-03-31</td>\n      <td>20200331</td>\n      <td>18</td>\n      <td>1.52</td>\n      <td>69.47</td>\n      <td>15.19</td>\n      <td>0.0269</td>\n      <td>312033.30</td>\n      <td>13.67</td>\n      <td>38523.61</td>\n      <td>...</td>\n      <td>101.8</td>\n      <td>89.6</td>\n      <td>99.3</td>\n      <td>103.3</td>\n      <td>105.8</td>\n      <td>104.6</td>\n      <td>107.5</td>\n      <td>15580</td>\n      <td>-1.9</td>\n      <td>6.4</td>\n    </tr>\n    <tr>\n      <th>4</th>\n      <td>2020-03-31</td>\n      <td>20200331</td>\n      <td>19</td>\n      <td>16.83</td>\n      <td>43.08</td>\n      <td>30.42</td>\n      <td>0.0258</td>\n      <td>177223.30</td>\n      <td>13.59</td>\n      <td>126221.72</td>\n      <td>...</td>\n      <td>101.8</td>\n      <td>89.6</td>\n      <td>99.3</td>\n      <td>103.3</td>\n      <td>105.8</td>\n      <td>104.6</td>\n      <td>107.5</td>\n      <td>15580</td>\n      <td>-1.9</td>\n      <td>6.4</td>\n    </tr>\n    <tr>\n      <th>...</th>\n      <td>...</td>\n      <td>...</td>\n      <td>...</td>\n      <td>...</td>\n      <td>...</td>\n      <td>...</td>\n      <td>...</td>\n      <td>...</td>\n      <td>...</td>\n      <td>...</td>\n      <td>...</td>\n      <td>...</td>\n      <td>...</td>\n      <td>...</td>\n      <td>...</td>\n      <td>...</td>\n      <td>...</td>\n      <td>...</td>\n      <td>...</td>\n      <td>...</td>\n      <td>...</td>\n    </tr>\n    <tr>\n      <th>17527</th>\n      <td>2021-02-28</td>\n      <td>20210228</td>\n      <td>5351</td>\n      <td>18.44</td>\n      <td>39.97</td>\n      <td>20.36</td>\n      <td>0.0362</td>\n      <td>259250.00</td>\n      <td>1.92</td>\n      <td>241309.99</td>\n      <td>...</td>\n      <td>102.1</td>\n      <td>124.4</td>\n      <td>108.6</td>\n      <td>101.2</td>\n      <td>103.1</td>\n      <td>102.4</td>\n      <td>106.1</td>\n      <td>16723</td>\n      <td>-17.7</td>\n      <td>-4.2</td>\n    </tr>\n    <tr>\n      <th>17528</th>\n      <td>2021-02-28</td>\n      <td>20210228</td>\n      <td>5352</td>\n      <td>18.22</td>\n      <td>31.79</td>\n      <td>20.13</td>\n      <td>0.0356</td>\n      <td>207400.00</td>\n      <td>1.92</td>\n      <td>194039.20</td>\n      <td>...</td>\n      <td>102.1</td>\n      <td>124.4</td>\n      <td>108.6</td>\n      <td>101.2</td>\n      <td>103.1</td>\n      <td>102.4</td>\n      <td>106.1</td>\n      <td>16723</td>\n      <td>-17.7</td>\n      <td>-4.2</td>\n    </tr>\n    <tr>\n      <th>17529</th>\n      <td>2021-02-28</td>\n      <td>20210228</td>\n      <td>5353</td>\n      <td>8.52</td>\n      <td>36.67</td>\n      <td>10.44</td>\n      <td>0.0373</td>\n      <td>103700.00</td>\n      <td>1.92</td>\n      <td>87685.95</td>\n      <td>...</td>\n      <td>102.1</td>\n      <td>124.4</td>\n      <td>108.6</td>\n      <td>101.2</td>\n      <td>103.1</td>\n      <td>102.4</td>\n      <td>106.1</td>\n      <td>16723</td>\n      <td>-17.7</td>\n      <td>-4.2</td>\n    </tr>\n    <tr>\n      <th>17530</th>\n      <td>2021-02-28</td>\n      <td>20210228</td>\n      <td>5354</td>\n      <td>28.23</td>\n      <td>30.97</td>\n      <td>30.14</td>\n      <td>0.0356</td>\n      <td>362950.00</td>\n      <td>1.92</td>\n      <td>350829.79</td>\n      <td>...</td>\n      <td>102.1</td>\n      <td>124.4</td>\n      <td>108.6</td>\n      <td>101.2</td>\n      <td>103.1</td>\n      <td>102.4</td>\n      <td>106.1</td>\n      <td>16723</td>\n      <td>-17.7</td>\n      <td>-4.2</td>\n    </tr>\n    <tr>\n      <th>17531</th>\n      <td>2021-02-28</td>\n      <td>20210228</td>\n      <td>5355</td>\n      <td>8.15</td>\n      <td>38.49</td>\n      <td>10.06</td>\n      <td>0.0369</td>\n      <td>186660.00</td>\n      <td>1.91</td>\n      <td>150365.02</td>\n      <td>...</td>\n      <td>102.1</td>\n      <td>124.4</td>\n      <td>108.6</td>\n      <td>101.2</td>\n      <td>103.1</td>\n      <td>102.4</td>\n      <td>106.1</td>\n      <td>16723</td>\n      <td>-17.7</td>\n      <td>-4.2</td>\n    </tr>\n  </tbody>\n</table>\n<p>17532 rows × 40 columns</p>\n</div>"
     },
     "metadata": {},
     "execution_count": 10
    }
   ],
   "source": [
    "data_out_of_sample"
   ]
  },
  {
   "cell_type": "code",
   "execution_count": 45,
   "metadata": {},
   "outputs": [],
   "source": [
    "train_cutoff = datetime.strptime(\"2018-01-31\", \"%Y-%m-%d\")\n",
    "val_cutoff = datetime.strptime(\"2019-02-28\", \"%Y-%m-%d\")"
   ]
  },
  {
   "cell_type": "code",
   "execution_count": 46,
   "metadata": {},
   "outputs": [
    {
     "output_type": "execute_result",
     "data": {
      "text/plain": [
       "'2018-01-31'"
      ]
     },
     "metadata": {},
     "execution_count": 46
    }
   ],
   "source": [
    "str(train_cutoff)[:10]"
   ]
  },
  {
   "cell_type": "code",
   "execution_count": 47,
   "metadata": {},
   "outputs": [],
   "source": [
    "data_train = data_in_sample.query(f\"date<='{train_cutoff}'\")\n",
    "data_val = data_in_sample.query(f\"date>'{train_cutoff}' & date<='{val_cutoff}'\")\n",
    "data_test = data_in_sample.query(f\"date>'{val_cutoff}'\")"
   ]
  },
  {
   "cell_type": "code",
   "execution_count": 51,
   "metadata": {},
   "outputs": [
    {
     "output_type": "execute_result",
     "data": {
      "text/plain": [
       "(Timestamp('2016-01-31 00:00:00'),\n",
       " Timestamp('2018-01-31 00:00:00'),\n",
       " (101960, 41))"
      ]
     },
     "metadata": {},
     "execution_count": 51
    }
   ],
   "source": [
    "data_train['date'].min(), data_train['date'].max(), data_train.shape"
   ]
  },
  {
   "cell_type": "code",
   "execution_count": 52,
   "metadata": {},
   "outputs": [
    {
     "output_type": "execute_result",
     "data": {
      "text/plain": [
       "(Timestamp('2018-02-28 00:00:00'),\n",
       " Timestamp('2019-02-28 00:00:00'),\n",
       " (38765, 41))"
      ]
     },
     "metadata": {},
     "execution_count": 52
    }
   ],
   "source": [
    "data_val['date'].min(), data_val['date'].max(), data_val.shape"
   ]
  },
  {
   "cell_type": "code",
   "execution_count": 53,
   "metadata": {},
   "outputs": [
    {
     "output_type": "execute_result",
     "data": {
      "text/plain": [
       "(Timestamp('2019-03-31 00:00:00'),\n",
       " Timestamp('2020-02-29 00:00:00'),\n",
       " (24361, 41))"
      ]
     },
     "metadata": {},
     "execution_count": 53
    }
   ],
   "source": [
    "data_test['date'].min(), data_test['date'].max(), data_test.shape"
   ]
  },
  {
   "cell_type": "code",
   "execution_count": 54,
   "metadata": {},
   "outputs": [],
   "source": [
    "data_train.to_csv(\"../data/data_train.csv\")\n",
    "data_val.to_csv(\"../data/data_val.csv\")\n",
    "data_test.to_csv(\"../data/data_test.csv\")\n",
    "data_out_of_sample.to_csv(\"../data/data_out_of_sample.csv\")"
   ]
  },
  {
   "cell_type": "code",
   "execution_count": null,
   "metadata": {},
   "outputs": [],
   "source": []
  }
 ]
}